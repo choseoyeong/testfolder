{
  "nbformat": 4,
  "nbformat_minor": 0,
  "metadata": {
    "colab": {
      "provenance": [],
      "collapsed_sections": []
    },
    "kernelspec": {
      "name": "python3",
      "display_name": "Python 3"
    },
    "language_info": {
      "name": "python"
    }
  },
  "cells": [
    {
      "cell_type": "markdown",
      "metadata": {
        "id": "0mZtYdkvWV-E"
      },
      "source": [
        "<h1>Python Basics</h1>"
      ]
    },
    {
      "cell_type": "markdown",
      "metadata": {
        "id": "mDPxvqRWWbcr"
      },
      "source": [
        "# 1.개요"
      ]
    },
    {
      "cell_type": "markdown",
      "metadata": {
        "id": "FOSnZIaLW517"
      },
      "source": [
        "## 필수 라이브러리 설치 확인"
      ]
    },
    {
      "cell_type": "code",
      "metadata": {
        "id": "TIFltKalWfZD",
        "colab": {
          "base_uri": "https://localhost:8080/"
        },
        "outputId": "90aa4aa7-7ed8-4cf9-e69b-e6d4a76029c0"
      },
      "source": [
        "import numpy\n",
        "import pandas\n",
        "import matplotlib\n",
        "import sklearn\n",
        "import tensorflow\n",
        "import keras\n",
        "\n",
        "print(numpy.__version__)\n",
        "print(pandas.__version__)"
      ],
      "execution_count": null,
      "outputs": [
        {
          "output_type": "stream",
          "name": "stdout",
          "text": [
            "1.21.6\n",
            "1.3.5\n"
          ]
        }
      ]
    },
    {
      "cell_type": "markdown",
      "metadata": {
        "id": "hhBlq57rXDTS"
      },
      "source": [
        "# 2.기본 문법"
      ]
    },
    {
      "cell_type": "markdown",
      "metadata": {
        "id": "ghJkhq5Nuf5h"
      },
      "source": [
        "## 기본 문법"
      ]
    },
    {
      "cell_type": "code",
      "source": [
        "'''\n",
        "print(\"hello\")\n",
        "print(\"world\")\n",
        "'''\n",
        "print(\"goodbye\")\n"
      ],
      "metadata": {
        "id": "nmaIjSaALclj",
        "colab": {
          "base_uri": "https://localhost:8080/"
        },
        "outputId": "c726e010-1834-4098-955f-d2b8a10ad6ca"
      },
      "execution_count": null,
      "outputs": [
        {
          "output_type": "stream",
          "name": "stdout",
          "text": [
            "goodbye\n"
          ]
        }
      ]
    },
    {
      "cell_type": "code",
      "source": [
        "print(\"hello\");\n",
        "print(\"world\")\n",
        "\n",
        "print(\"hello\"); print(\"world\")"
      ],
      "metadata": {
        "colab": {
          "base_uri": "https://localhost:8080/"
        },
        "id": "JuP29znUnOC3",
        "outputId": "7103af40-2347-4d80-c8e0-5ebb6a22e545"
      },
      "execution_count": null,
      "outputs": [
        {
          "output_type": "stream",
          "name": "stdout",
          "text": [
            "hello\n",
            "world\n",
            "hello\n",
            "world\n"
          ]
        }
      ]
    },
    {
      "cell_type": "code",
      "source": [
        "# '\\' 사용하면 줄바꿈해도 에러 안남\n",
        "print(\"동해물과 백두산이 마르고 닳도록 하느님이 보우하사 우리나라 만세\\\n",
        "무궁화 삼천리 화려강산 대한사람 대한으로 길이 보전하세\")"
      ],
      "metadata": {
        "colab": {
          "base_uri": "https://localhost:8080/"
        },
        "id": "KAPvfxtbngKr",
        "outputId": "171981ad-5d53-40cd-8518-136038364451"
      },
      "execution_count": null,
      "outputs": [
        {
          "output_type": "stream",
          "name": "stdout",
          "text": [
            "동해물과 백두산이 마르고 닳도록 하느님이 보우하사 우리나라 만세 무궁화 삼천리 화려강산 대한사람 대한으로 길이 보전하세\n"
          ]
        }
      ]
    },
    {
      "cell_type": "markdown",
      "metadata": {
        "id": "ZZoXe_bBv-dH"
      },
      "source": [
        "## 변수\n"
      ]
    },
    {
      "cell_type": "code",
      "source": [
        "i = 10\n",
        "print(i)"
      ],
      "metadata": {
        "id": "x8Ob1UKyLepL",
        "colab": {
          "base_uri": "https://localhost:8080/"
        },
        "outputId": "ef9efc4d-0ba9-4623-8c91-4c9da5fb5378"
      },
      "execution_count": null,
      "outputs": [
        {
          "output_type": "stream",
          "name": "stdout",
          "text": [
            "10\n"
          ]
        }
      ]
    },
    {
      "cell_type": "code",
      "source": [
        "i=10\n",
        "i=20"
      ],
      "metadata": {
        "id": "KT3KOTaPpB_v"
      },
      "execution_count": null,
      "outputs": []
    },
    {
      "cell_type": "code",
      "source": [
        "print(\"hello\")"
      ],
      "metadata": {
        "colab": {
          "base_uri": "https://localhost:8080/"
        },
        "id": "MnJuptpkpEvt",
        "outputId": "b4ada274-410a-4321-de72-eb4ed372c9d2"
      },
      "execution_count": null,
      "outputs": [
        {
          "output_type": "stream",
          "name": "stdout",
          "text": [
            "hello\n"
          ]
        }
      ]
    },
    {
      "cell_type": "markdown",
      "source": [
        "\n",
        "\n",
        "---\n",
        "🛑\n",
        "내장함수에 값을 할당하면 이후 해당 함수 원래 역할 못함(print 등..)\\\n",
        "keyword(if 등..)은 에러나서 실행 자체가 안됨"
      ],
      "metadata": {
        "id": "a8KVEdBuaE4s"
      }
    },
    {
      "cell_type": "code",
      "source": [
        "# 주의할 부분\n",
        "# print라는 내장함수를 10으로 덮어씀 -> 이후에 print 함수 사용 불가\n",
        "print = 10\n",
        "print"
      ],
      "metadata": {
        "colab": {
          "base_uri": "https://localhost:8080/"
        },
        "cellView": "code",
        "id": "ynbSHongpGgc",
        "outputId": "40f92ffb-9b79-4871-b999-627aedca0661"
      },
      "execution_count": null,
      "outputs": [
        {
          "output_type": "execute_result",
          "data": {
            "text/plain": [
              "10"
            ]
          },
          "metadata": {},
          "execution_count": 4
        }
      ]
    },
    {
      "cell_type": "code",
      "source": [
        "del print"
      ],
      "metadata": {
        "id": "AufzrsyvqVNh"
      },
      "execution_count": null,
      "outputs": []
    },
    {
      "cell_type": "code",
      "source": [
        "print(\"hello\")"
      ],
      "metadata": {
        "colab": {
          "base_uri": "https://localhost:8080/"
        },
        "id": "4jRJEqkZpIrG",
        "outputId": "fe53d179-1b49-4a50-e1d1-be527bcbe5fa"
      },
      "execution_count": null,
      "outputs": [
        {
          "output_type": "stream",
          "name": "stdout",
          "text": [
            "hello\n"
          ]
        }
      ]
    },
    {
      "cell_type": "code",
      "source": [
        "# if는 키워드기 때문에 에러\n",
        "if = 10"
      ],
      "metadata": {
        "colab": {
          "base_uri": "https://localhost:8080/",
          "height": 136
        },
        "id": "-KYME0URpZ5S",
        "outputId": "71d3dac3-a321-4c45-9614-83d9d4718fd0"
      },
      "execution_count": null,
      "outputs": [
        {
          "output_type": "error",
          "ename": "SyntaxError",
          "evalue": "ignored",
          "traceback": [
            "\u001b[0;36m  File \u001b[0;32m\"<ipython-input-22-d0cfb59be2a9>\"\u001b[0;36m, line \u001b[0;32m2\u001b[0m\n\u001b[0;31m    if = 10\u001b[0m\n\u001b[0m       ^\u001b[0m\n\u001b[0;31mSyntaxError\u001b[0m\u001b[0;31m:\u001b[0m invalid syntax\n"
          ]
        }
      ]
    },
    {
      "cell_type": "code",
      "source": [
        "# keyword 목록 확인\n",
        "import keyword\n",
        "#keyword.kwlist"
      ],
      "metadata": {
        "id": "y13h_R9npKTy"
      },
      "execution_count": null,
      "outputs": []
    },
    {
      "cell_type": "code",
      "source": [
        "# 내장함수 목록 확인\n",
        "#dir(__builtin__)"
      ],
      "metadata": {
        "id": "iLvux_Zaqt3u"
      },
      "execution_count": null,
      "outputs": []
    },
    {
      "cell_type": "markdown",
      "metadata": {
        "id": "QPdOPFxkXGN4"
      },
      "source": [
        "---\n",
        "## 데이터 타입"
      ]
    },
    {
      "cell_type": "code",
      "source": [
        "i = 10\n",
        "f = 3.14\n",
        "c = 1.23 + 4.5j\n",
        "print(i, type(i), f, type(f), c, type(c))\n",
        "# 정수, 실수, 복소수(숫자 뒤에 j 붙이면 허수를 의미함)"
      ],
      "metadata": {
        "id": "LBTvI0ayLjGY",
        "colab": {
          "base_uri": "https://localhost:8080/"
        },
        "outputId": "6c178cf8-82dc-4c26-a823-7d6868f9cd11"
      },
      "execution_count": null,
      "outputs": [
        {
          "output_type": "stream",
          "name": "stdout",
          "text": [
            "10 <class 'int'> 3.14 <class 'float'> (1.23+4.5j) <class 'complex'>\n"
          ]
        }
      ]
    },
    {
      "cell_type": "code",
      "source": [
        "b1 = True\n",
        "b2 = False\n",
        "b1, type(b1), b2, type(b2)"
      ],
      "metadata": {
        "colab": {
          "base_uri": "https://localhost:8080/"
        },
        "id": "mlt06UshrN-N",
        "outputId": "de885e5d-308d-4de7-b2e9-537acd0c393f"
      },
      "execution_count": null,
      "outputs": [
        {
          "output_type": "execute_result",
          "data": {
            "text/plain": [
              "(True, bool, False, bool)"
            ]
          },
          "metadata": {},
          "execution_count": 15
        }
      ]
    },
    {
      "cell_type": "code",
      "source": [
        "s = \"hello\"\n",
        "s2 = 'world'\n",
        "s, type(s), s2, type(s2)\n",
        "# ''와 \"\"는 차이 없음"
      ],
      "metadata": {
        "colab": {
          "base_uri": "https://localhost:8080/"
        },
        "id": "Kd8hG8j1r3lD",
        "outputId": "8fddbf38-d234-4d14-f61d-0356839ab747"
      },
      "execution_count": null,
      "outputs": [
        {
          "output_type": "execute_result",
          "data": {
            "text/plain": [
              "('hello', str, 'world', str)"
            ]
          },
          "metadata": {},
          "execution_count": 16
        }
      ]
    },
    {
      "cell_type": "markdown",
      "source": [
        "\n",
        "\n",
        "---\n",
        "⚽ List, Set, Tuple, Dictionary"
      ],
      "metadata": {
        "id": "29ijbo7SbU5Y"
      }
    },
    {
      "cell_type": "code",
      "source": [
        "# java의 arraylist, vector ..\n",
        "lst = [1, 2, 3, 4]\n",
        "lst, type(lst)"
      ],
      "metadata": {
        "colab": {
          "base_uri": "https://localhost:8080/"
        },
        "id": "5zw20jknr_dq",
        "outputId": "078ee33e-2a44-4adb-d7bd-dcd40ad14b6f"
      },
      "execution_count": null,
      "outputs": [
        {
          "output_type": "execute_result",
          "data": {
            "text/plain": [
              "([1, 2, 3, 4], list)"
            ]
          },
          "metadata": {},
          "execution_count": 17
        }
      ]
    },
    {
      "cell_type": "code",
      "source": [
        "# java의 set과 똑같이 순서 보장 안되고 중복값은 하나만 취급\n",
        "st = {1,2,3,1,2,3}\n",
        "st, type(st)"
      ],
      "metadata": {
        "colab": {
          "base_uri": "https://localhost:8080/"
        },
        "id": "1uJHmG7zsZUP",
        "outputId": "83aa98af-3f79-4918-f5e0-e948357d7166"
      },
      "execution_count": null,
      "outputs": [
        {
          "output_type": "execute_result",
          "data": {
            "text/plain": [
              "({1, 2, 3}, set)"
            ]
          },
          "metadata": {},
          "execution_count": 19
        }
      ]
    },
    {
      "cell_type": "code",
      "source": [
        "tpl = (1, 2, 3)\n",
        "tpl, type(tpl)"
      ],
      "metadata": {
        "colab": {
          "base_uri": "https://localhost:8080/"
        },
        "id": "O-jjWrs-sipq",
        "outputId": "b49ef3ec-37d9-4b32-e922-89ae07fd0e7c"
      },
      "execution_count": null,
      "outputs": [
        {
          "output_type": "execute_result",
          "data": {
            "text/plain": [
              "((1, 2, 3), tuple)"
            ]
          },
          "metadata": {},
          "execution_count": 21
        }
      ]
    },
    {
      "cell_type": "code",
      "source": [
        "# java의 map\n",
        "dt = {'a':1, 'b':2}\n",
        "dt, type(dt)"
      ],
      "metadata": {
        "colab": {
          "base_uri": "https://localhost:8080/"
        },
        "id": "O6ZahUSnsl1u",
        "outputId": "a27c3338-21ce-4da5-b3dd-3358ed108bfe"
      },
      "execution_count": null,
      "outputs": [
        {
          "output_type": "execute_result",
          "data": {
            "text/plain": [
              "({'a': 1, 'b': 2}, dict)"
            ]
          },
          "metadata": {},
          "execution_count": 22
        }
      ]
    },
    {
      "cell_type": "markdown",
      "source": [
        "---"
      ],
      "metadata": {
        "id": "uKnXVUYOceqf"
      }
    },
    {
      "cell_type": "code",
      "source": [
        "a = 123\n",
        "float(a)"
      ],
      "metadata": {
        "colab": {
          "base_uri": "https://localhost:8080/"
        },
        "id": "GOy3ymo5sqSs",
        "outputId": "4981ae3e-482b-4d16-e3b1-008823e85a59"
      },
      "execution_count": null,
      "outputs": [
        {
          "output_type": "execute_result",
          "data": {
            "text/plain": [
              "123.0"
            ]
          },
          "metadata": {},
          "execution_count": 23
        }
      ]
    },
    {
      "cell_type": "code",
      "source": [
        "int(3.14)"
      ],
      "metadata": {
        "colab": {
          "base_uri": "https://localhost:8080/"
        },
        "id": "BSopZfPKtM3e",
        "outputId": "cd6ce480-fa0e-4650-8ee1-8d24c92af8a2"
      },
      "execution_count": null,
      "outputs": [
        {
          "output_type": "execute_result",
          "data": {
            "text/plain": [
              "3"
            ]
          },
          "metadata": {},
          "execution_count": 24
        }
      ]
    },
    {
      "cell_type": "code",
      "source": [
        "int(\"123\")"
      ],
      "metadata": {
        "colab": {
          "base_uri": "https://localhost:8080/"
        },
        "id": "5xttB750tQNK",
        "outputId": "8223af1b-fef0-4d8d-c258-e18309ebc2b1"
      },
      "execution_count": null,
      "outputs": [
        {
          "output_type": "execute_result",
          "data": {
            "text/plain": [
              "123"
            ]
          },
          "metadata": {},
          "execution_count": 25
        }
      ]
    },
    {
      "cell_type": "code",
      "source": [
        "float(\"3.14\")"
      ],
      "metadata": {
        "colab": {
          "base_uri": "https://localhost:8080/"
        },
        "id": "pCsX9g1ctVTj",
        "outputId": "0369517c-92f2-4060-f6ea-6ed87e16fcf0"
      },
      "execution_count": null,
      "outputs": [
        {
          "output_type": "execute_result",
          "data": {
            "text/plain": [
              "3.14"
            ]
          },
          "metadata": {},
          "execution_count": 26
        }
      ]
    },
    {
      "cell_type": "code",
      "source": [
        "int(True), int(False)"
      ],
      "metadata": {
        "colab": {
          "base_uri": "https://localhost:8080/"
        },
        "id": "RWUxnjMEtXWz",
        "outputId": "7d2d7a8e-522f-4eb1-85ca-1522907d5dc4"
      },
      "execution_count": null,
      "outputs": [
        {
          "output_type": "execute_result",
          "data": {
            "text/plain": [
              "(1, 0)"
            ]
          },
          "metadata": {},
          "execution_count": 27
        }
      ]
    },
    {
      "cell_type": "code",
      "source": [
        "bool(1), bool(0)"
      ],
      "metadata": {
        "colab": {
          "base_uri": "https://localhost:8080/"
        },
        "id": "Ui1-HFJftj4w",
        "outputId": "30a3d49d-e30c-4fe1-d3b3-cb7229ed37df"
      },
      "execution_count": null,
      "outputs": [
        {
          "output_type": "execute_result",
          "data": {
            "text/plain": [
              "(True, False)"
            ]
          },
          "metadata": {},
          "execution_count": 28
        }
      ]
    },
    {
      "cell_type": "markdown",
      "source": [
        "🛑 True, False 헷갈리기 쉬움"
      ],
      "metadata": {
        "id": "80vZoISrc12a"
      }
    },
    {
      "cell_type": "code",
      "source": [
        "# 0만 False고 0이 아닌 모든 것은 True\n",
        "bool(2), bool(-1), bool(0.000000000001)"
      ],
      "metadata": {
        "colab": {
          "base_uri": "https://localhost:8080/"
        },
        "id": "GR2oPBOetmsc",
        "outputId": "b34c4575-38ac-47f5-d2e0-d46194e5fa48"
      },
      "execution_count": null,
      "outputs": [
        {
          "output_type": "execute_result",
          "data": {
            "text/plain": [
              "(True, True, True)"
            ]
          },
          "metadata": {},
          "execution_count": 30
        }
      ]
    },
    {
      "cell_type": "code",
      "source": [
        "# 숫자 0이거나, None, 텅 빈 자료구조일 경우만 False\n",
        "bool(0), bool(0.0), bool(0j), bool(\"\"), bool([]), bool(()), bool({})"
      ],
      "metadata": {
        "colab": {
          "base_uri": "https://localhost:8080/"
        },
        "id": "CrzDME2htrRb",
        "outputId": "32e20801-9298-44a1-83dd-513df653ff17"
      },
      "execution_count": null,
      "outputs": [
        {
          "output_type": "execute_result",
          "data": {
            "text/plain": [
              "(False, False, False, False, False, False, False)"
            ]
          },
          "metadata": {},
          "execution_count": 31
        }
      ]
    },
    {
      "cell_type": "code",
      "source": [
        "# 많이 헷갈리는 부분. 내용 있는 문자열이므로 True\n",
        "bool(\"False\")"
      ],
      "metadata": {
        "colab": {
          "base_uri": "https://localhost:8080/"
        },
        "id": "m_MVNO_EuPvK",
        "outputId": "d1ffc564-05bf-4521-9e4f-2a8a4cec4a26"
      },
      "execution_count": null,
      "outputs": [
        {
          "output_type": "execute_result",
          "data": {
            "text/plain": [
              "True"
            ]
          },
          "metadata": {},
          "execution_count": 32
        }
      ]
    },
    {
      "cell_type": "code",
      "source": [
        "# java의 null.. NULL, Na, NaN 모두 같은 의미\n",
        "type(None), bool(None)"
      ],
      "metadata": {
        "colab": {
          "base_uri": "https://localhost:8080/"
        },
        "id": "12ID65yIuRTK",
        "outputId": "875485f9-2dfd-479c-a681-184795ddf73b"
      },
      "execution_count": null,
      "outputs": [
        {
          "output_type": "execute_result",
          "data": {
            "text/plain": [
              "(NoneType, False)"
            ]
          },
          "metadata": {},
          "execution_count": 34
        }
      ]
    },
    {
      "cell_type": "markdown",
      "metadata": {
        "id": "qHlMZ1UgzTjS"
      },
      "source": [
        "---\n",
        "## 연산자"
      ]
    },
    {
      "cell_type": "code",
      "source": [
        "# int\n",
        "4 + 2\n",
        "\n",
        "# float\n",
        "4 + 2.0"
      ],
      "metadata": {
        "id": "6_KdH33CLlZk",
        "colab": {
          "base_uri": "https://localhost:8080/"
        },
        "outputId": "ff07ed0a-7bd8-4af1-c6a3-f553a9d3f170"
      },
      "execution_count": null,
      "outputs": [
        {
          "output_type": "execute_result",
          "data": {
            "text/plain": [
              "6.0"
            ]
          },
          "metadata": {},
          "execution_count": 37
        }
      ]
    },
    {
      "cell_type": "markdown",
      "source": [
        "⚽⚽⚽ \\\n",
        "대부분 연산은 정수끼리 연산하면 결과도 정수지만,\\\n",
        "나누기(/)의 결과는 무조건 실수임.\\\n",
        "정수로 사용하고 싶으면 // 사용하기"
      ],
      "metadata": {
        "id": "rp3MQma-dFB-"
      }
    },
    {
      "cell_type": "code",
      "source": [
        "# 정수끼리 연산이지만 나누기의 결과는 실수임\n",
        "# 나누기 결과를 정수로 사용하고 싶으면 // 사용하면 됨\n",
        "4 / 2, 4 // 2"
      ],
      "metadata": {
        "colab": {
          "base_uri": "https://localhost:8080/"
        },
        "id": "5Hxx25lgwKdb",
        "outputId": "bd166667-e337-48c5-bf6f-04fd2e6b2a72"
      },
      "execution_count": null,
      "outputs": [
        {
          "output_type": "execute_result",
          "data": {
            "text/plain": [
              "(2.0, 2)"
            ]
          },
          "metadata": {},
          "execution_count": 42
        }
      ]
    },
    {
      "cell_type": "code",
      "source": [
        "7/4, 7//4"
      ],
      "metadata": {
        "colab": {
          "base_uri": "https://localhost:8080/"
        },
        "id": "gt-bQld7wmpu",
        "outputId": "0b9260d6-38a6-4c89-fc79-dcda08c98877"
      },
      "execution_count": null,
      "outputs": [
        {
          "output_type": "execute_result",
          "data": {
            "text/plain": [
              "(1.75, 1)"
            ]
          },
          "metadata": {},
          "execution_count": 41
        }
      ]
    },
    {
      "cell_type": "code",
      "source": [
        "s = \"hello world\"\n",
        "s[2]\n",
        "s[4/2] # error\n",
        "s[4//2]\n"
      ],
      "metadata": {
        "id": "sGPtbOFfv9Ew"
      },
      "execution_count": null,
      "outputs": []
    },
    {
      "cell_type": "code",
      "source": [
        "# ++i, i-- 등 연산자 없음\n",
        "i = 10\n",
        "i++   "
      ],
      "metadata": {
        "colab": {
          "base_uri": "https://localhost:8080/",
          "height": 136
        },
        "id": "RvFtadYgw2QW",
        "outputId": "496bb963-2f96-4603-cb8b-5fd329e41347"
      },
      "execution_count": null,
      "outputs": [
        {
          "output_type": "error",
          "ename": "SyntaxError",
          "evalue": "ignored",
          "traceback": [
            "\u001b[0;36m  File \u001b[0;32m\"<ipython-input-45-be657d3ff0a2>\"\u001b[0;36m, line \u001b[0;32m3\u001b[0m\n\u001b[0;31m    i++\u001b[0m\n\u001b[0m          ^\u001b[0m\n\u001b[0;31mSyntaxError\u001b[0m\u001b[0;31m:\u001b[0m invalid syntax\n"
          ]
        }
      ]
    },
    {
      "cell_type": "code",
      "source": [
        "i = 10\n",
        "i += 1\n",
        "i"
      ],
      "metadata": {
        "colab": {
          "base_uri": "https://localhost:8080/"
        },
        "id": "uBlxelBuxGEn",
        "outputId": "1fd05e91-6456-4c4b-a1cd-c7ff9da31b5c"
      },
      "execution_count": null,
      "outputs": [
        {
          "output_type": "execute_result",
          "data": {
            "text/plain": [
              "11"
            ]
          },
          "metadata": {},
          "execution_count": 47
        }
      ]
    },
    {
      "cell_type": "code",
      "source": [
        "a = 10\n",
        "b = 20\n",
        "a == b"
      ],
      "metadata": {
        "colab": {
          "base_uri": "https://localhost:8080/"
        },
        "id": "WmbDlHeWxLmu",
        "outputId": "e6cd478a-eacf-4deb-c428-70fe4176ab09"
      },
      "execution_count": null,
      "outputs": [
        {
          "output_type": "execute_result",
          "data": {
            "text/plain": [
              "False"
            ]
          },
          "metadata": {},
          "execution_count": 55
        }
      ]
    },
    {
      "cell_type": "markdown",
      "source": [
        "⚽⚽⚽\\\n",
        "is 함수, id 함수"
      ],
      "metadata": {
        "id": "UqC7vSDGdXnG"
      }
    },
    {
      "cell_type": "code",
      "source": [
        "a is b, id(a), id(b)"
      ],
      "metadata": {
        "colab": {
          "base_uri": "https://localhost:8080/"
        },
        "id": "z7_e5hW0z7GW",
        "outputId": "f25b2a32-1f5b-4275-c646-b976be55519d"
      },
      "execution_count": null,
      "outputs": [
        {
          "output_type": "execute_result",
          "data": {
            "text/plain": [
              "(False, 11256352, 11256672)"
            ]
          },
          "metadata": {},
          "execution_count": 57
        }
      ]
    },
    {
      "cell_type": "code",
      "source": [
        "b = 10\n",
        "a == b"
      ],
      "metadata": {
        "colab": {
          "base_uri": "https://localhost:8080/"
        },
        "id": "ckMDy4NJz7_O",
        "outputId": "b3afa8eb-fe2f-4c31-e48f-7eb8c241b3f9"
      },
      "execution_count": null,
      "outputs": [
        {
          "output_type": "execute_result",
          "data": {
            "text/plain": [
              "True"
            ]
          },
          "metadata": {},
          "execution_count": 59
        }
      ]
    },
    {
      "cell_type": "code",
      "source": [
        "# a와 b는 값은 같지만 identify는 다름\n",
        "# 하지만 같은 값을 2개나 가지고 있을 이유가 없으므로 한 값으로? 침\n",
        "a is b, id(a), id(b)"
      ],
      "metadata": {
        "colab": {
          "base_uri": "https://localhost:8080/"
        },
        "id": "-TqVK1mb0AiC",
        "outputId": "c7928944-dc4e-4f72-bc2b-f73a1e155fd7"
      },
      "execution_count": null,
      "outputs": [
        {
          "output_type": "execute_result",
          "data": {
            "text/plain": [
              "(True, 11256352, 11256352)"
            ]
          },
          "metadata": {},
          "execution_count": 60
        }
      ]
    },
    {
      "cell_type": "code",
      "source": [
        "True and True"
      ],
      "metadata": {
        "colab": {
          "base_uri": "https://localhost:8080/"
        },
        "id": "q40YQKMe0VOU",
        "outputId": "33f5e490-14b5-40e5-cd0b-65b003ee9700"
      },
      "execution_count": null,
      "outputs": [
        {
          "output_type": "execute_result",
          "data": {
            "text/plain": [
              "True"
            ]
          },
          "metadata": {},
          "execution_count": 61
        }
      ]
    },
    {
      "cell_type": "code",
      "source": [
        "True or False"
      ],
      "metadata": {
        "colab": {
          "base_uri": "https://localhost:8080/"
        },
        "id": "zFNG1ClZ01o7",
        "outputId": "6af7af4f-7ddc-4e0d-f4fc-315fe899d9c4"
      },
      "execution_count": null,
      "outputs": [
        {
          "output_type": "execute_result",
          "data": {
            "text/plain": [
              "True"
            ]
          },
          "metadata": {},
          "execution_count": 62
        }
      ]
    },
    {
      "cell_type": "code",
      "source": [
        "not True"
      ],
      "metadata": {
        "colab": {
          "base_uri": "https://localhost:8080/"
        },
        "id": "u5oEfVkm02va",
        "outputId": "336032fe-daf2-44cf-b692-28ca96cbd4a3"
      },
      "execution_count": null,
      "outputs": [
        {
          "output_type": "execute_result",
          "data": {
            "text/plain": [
              "False"
            ]
          },
          "metadata": {},
          "execution_count": 63
        }
      ]
    },
    {
      "cell_type": "code",
      "source": [
        "True & True"
      ],
      "metadata": {
        "colab": {
          "base_uri": "https://localhost:8080/"
        },
        "id": "TXeW5bZl04lO",
        "outputId": "577b4163-d849-4328-d3d3-93060e1350f8"
      },
      "execution_count": null,
      "outputs": [
        {
          "output_type": "execute_result",
          "data": {
            "text/plain": [
              "True"
            ]
          },
          "metadata": {},
          "execution_count": 64
        }
      ]
    },
    {
      "cell_type": "code",
      "source": [
        "True | False"
      ],
      "metadata": {
        "colab": {
          "base_uri": "https://localhost:8080/"
        },
        "id": "AhbjT4bQ09Iz",
        "outputId": "90edb86a-f16b-4610-ae23-b4901a818ebf"
      },
      "execution_count": null,
      "outputs": [
        {
          "output_type": "execute_result",
          "data": {
            "text/plain": [
              "True"
            ]
          },
          "metadata": {},
          "execution_count": 65
        }
      ]
    },
    {
      "cell_type": "code",
      "source": [
        "~ True"
      ],
      "metadata": {
        "colab": {
          "base_uri": "https://localhost:8080/"
        },
        "id": "DhlP7MDe1AdI",
        "outputId": "65d6b022-db12-48ec-a367-e7bf7279d6c3"
      },
      "execution_count": null,
      "outputs": [
        {
          "output_type": "execute_result",
          "data": {
            "text/plain": [
              "-2"
            ]
          },
          "metadata": {},
          "execution_count": 66
        }
      ]
    },
    {
      "cell_type": "markdown",
      "source": [
        "⚽⚽⚽\\\n",
        "논리 연산자: and, or, not\n",
        "bitwise 연산자: & | ~"
      ],
      "metadata": {
        "id": "-2uT6_OMkwBQ"
      }
    },
    {
      "cell_type": "code",
      "source": [
        "# a(True) & b(True)일 때 결과로 나온 True는 b의 True를 의미함. 그러므로 아래 결과는 3이 나옴\n",
        "2 and 3, \"\" or 0"
      ],
      "metadata": {
        "colab": {
          "base_uri": "https://localhost:8080/"
        },
        "id": "c7nyjp4h1EZG",
        "outputId": "da82dce9-118c-4b33-d54c-c2095c0eb3d0"
      },
      "execution_count": null,
      "outputs": [
        {
          "output_type": "execute_result",
          "data": {
            "text/plain": [
              "(3, 0)"
            ]
          },
          "metadata": {},
          "execution_count": 69
        }
      ]
    },
    {
      "cell_type": "code",
      "source": [
        "2 & 3\n",
        "\n",
        "# 2 and 3과 2 & 3의 결과가 다르므로 구별해서 사용해야 함 --> 매우 중요\n",
        "# 하나하나를 개별로 놓고 연산을 하고싶을 때 &를 사용해야 함 "
      ],
      "metadata": {
        "colab": {
          "base_uri": "https://localhost:8080/"
        },
        "id": "Ic5sQFmA1l9i",
        "outputId": "f6b4f50c-a2a0-45e4-9ed0-dc7fc0f39429"
      },
      "execution_count": null,
      "outputs": [
        {
          "output_type": "execute_result",
          "data": {
            "text/plain": [
              "2"
            ]
          },
          "metadata": {},
          "execution_count": 68
        }
      ]
    },
    {
      "cell_type": "markdown",
      "metadata": {
        "id": "adBNaYkti4Wz"
      },
      "source": [
        "---\n",
        "## 문자열"
      ]
    },
    {
      "cell_type": "markdown",
      "source": [
        "![diaryImg1.jpg](data:image/jpeg;base64,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)"
      ],
      "metadata": {
        "id": "EXUIuSUzlO7A"
      }
    },
    {
      "cell_type": "markdown",
      "source": [
        "⚽⚽⚽\\\n",
        "문자열 덧셈은 문자열 끼리만 가능하고 숫자랑은 불가능함"
      ],
      "metadata": {
        "id": "aP1K_E3FoRUr"
      }
    },
    {
      "cell_type": "code",
      "source": [
        "\"hello\" + \"world\""
      ],
      "metadata": {
        "id": "MhC77bdGLnRI",
        "colab": {
          "base_uri": "https://localhost:8080/",
          "height": 35
        },
        "outputId": "b5ac0a01-3354-4ad4-9ef5-3316854516dd"
      },
      "execution_count": 3,
      "outputs": [
        {
          "output_type": "execute_result",
          "data": {
            "text/plain": [
              "'helloworld'"
            ],
            "application/vnd.google.colaboratory.intrinsic+json": {
              "type": "string"
            }
          },
          "metadata": {},
          "execution_count": 3
        }
      ]
    },
    {
      "cell_type": "code",
      "source": [
        "\"hello\" + 123"
      ],
      "metadata": {
        "colab": {
          "base_uri": "https://localhost:8080/",
          "height": 172
        },
        "id": "RkKDMTj83aNZ",
        "outputId": "b02e1e8d-ea0c-43dc-9686-2738471c25a4"
      },
      "execution_count": null,
      "outputs": [
        {
          "output_type": "error",
          "ename": "TypeError",
          "evalue": "ignored",
          "traceback": [
            "\u001b[0;31m---------------------------------------------------------------------------\u001b[0m",
            "\u001b[0;31mTypeError\u001b[0m                                 Traceback (most recent call last)",
            "\u001b[0;32m<ipython-input-73-12b7c1a20b27>\u001b[0m in \u001b[0;36m<module>\u001b[0;34m\u001b[0m\n\u001b[0;32m----> 1\u001b[0;31m \u001b[0;34m\"hello\"\u001b[0m \u001b[0;34m+\u001b[0m \u001b[0;36m123\u001b[0m\u001b[0;34m\u001b[0m\u001b[0;34m\u001b[0m\u001b[0m\n\u001b[0m",
            "\u001b[0;31mTypeError\u001b[0m: can only concatenate str (not \"int\") to str"
          ]
        }
      ]
    },
    {
      "cell_type": "code",
      "source": [
        "value = 123\n",
        "value + \"kg\""
      ],
      "metadata": {
        "colab": {
          "base_uri": "https://localhost:8080/",
          "height": 190
        },
        "id": "VUJ6htWJ3b5N",
        "outputId": "5a6f4b5e-36a8-4b8a-fa51-14eac37e40e4"
      },
      "execution_count": null,
      "outputs": [
        {
          "output_type": "error",
          "ename": "TypeError",
          "evalue": "ignored",
          "traceback": [
            "\u001b[0;31m---------------------------------------------------------------------------\u001b[0m",
            "\u001b[0;31mTypeError\u001b[0m                                 Traceback (most recent call last)",
            "\u001b[0;32m<ipython-input-75-bdc784f0f6e0>\u001b[0m in \u001b[0;36m<module>\u001b[0;34m\u001b[0m\n\u001b[1;32m      1\u001b[0m \u001b[0mvalue\u001b[0m \u001b[0;34m=\u001b[0m \u001b[0;36m123\u001b[0m\u001b[0;34m\u001b[0m\u001b[0;34m\u001b[0m\u001b[0m\n\u001b[0;32m----> 2\u001b[0;31m \u001b[0mvalue\u001b[0m \u001b[0;34m+\u001b[0m \u001b[0;34m\"kg\"\u001b[0m\u001b[0;34m\u001b[0m\u001b[0;34m\u001b[0m\u001b[0m\n\u001b[0m",
            "\u001b[0;31mTypeError\u001b[0m: unsupported operand type(s) for +: 'int' and 'str'"
          ]
        }
      ]
    },
    {
      "cell_type": "code",
      "source": [
        "# 문자열끼리의 덧셈이므로 가능함\n",
        "\"hello\" * 5"
      ],
      "metadata": {
        "colab": {
          "base_uri": "https://localhost:8080/",
          "height": 35
        },
        "id": "XXEi6fNQ3qJM",
        "outputId": "beea7272-fe4e-48b3-980a-26e86925f176"
      },
      "execution_count": null,
      "outputs": [
        {
          "output_type": "execute_result",
          "data": {
            "text/plain": [
              "'hellohellohellohellohello'"
            ],
            "application/vnd.google.colaboratory.intrinsic+json": {
              "type": "string"
            }
          },
          "metadata": {},
          "execution_count": 76
        }
      ]
    },
    {
      "cell_type": "code",
      "source": [
        "\"h\" in \"hello\""
      ],
      "metadata": {
        "colab": {
          "base_uri": "https://localhost:8080/"
        },
        "id": "fz2RAyJx3srh",
        "outputId": "b9ed60fc-9ba5-4560-c1ba-25a1e6311e34"
      },
      "execution_count": null,
      "outputs": [
        {
          "output_type": "execute_result",
          "data": {
            "text/plain": [
              "True"
            ]
          },
          "metadata": {},
          "execution_count": 77
        }
      ]
    },
    {
      "cell_type": "code",
      "source": [
        "len(\"hello\")"
      ],
      "metadata": {
        "colab": {
          "base_uri": "https://localhost:8080/"
        },
        "id": "9279igiO3-n1",
        "outputId": "cfce6e76-bf1c-47fd-d253-3d7b3b90fa6e"
      },
      "execution_count": null,
      "outputs": [
        {
          "output_type": "execute_result",
          "data": {
            "text/plain": [
              "5"
            ]
          },
          "metadata": {},
          "execution_count": 78
        }
      ]
    },
    {
      "cell_type": "code",
      "source": [
        "s = \"python\"\n",
        "s[0]"
      ],
      "metadata": {
        "colab": {
          "base_uri": "https://localhost:8080/",
          "height": 35
        },
        "id": "OaKj7R6H4FwI",
        "outputId": "8624984f-b33d-4726-ff29-09aa7b33001f"
      },
      "execution_count": null,
      "outputs": [
        {
          "output_type": "execute_result",
          "data": {
            "text/plain": [
              "'p'"
            ],
            "application/vnd.google.colaboratory.intrinsic+json": {
              "type": "string"
            }
          },
          "metadata": {},
          "execution_count": 79
        }
      ]
    },
    {
      "cell_type": "code",
      "source": [
        "len(s)-1"
      ],
      "metadata": {
        "colab": {
          "base_uri": "https://localhost:8080/"
        },
        "id": "v_yMO8Oq4Ze-",
        "outputId": "1e139e9e-87d8-419d-8775-db44236817cb"
      },
      "execution_count": null,
      "outputs": [
        {
          "output_type": "execute_result",
          "data": {
            "text/plain": [
              "5"
            ]
          },
          "metadata": {},
          "execution_count": 80
        }
      ]
    },
    {
      "cell_type": "code",
      "source": [
        "s[5]"
      ],
      "metadata": {
        "colab": {
          "base_uri": "https://localhost:8080/"
        },
        "id": "bTTZwQSO4cm-",
        "outputId": "7603825f-3158-4bc7-940e-1313b914fd5d"
      },
      "execution_count": null,
      "outputs": [
        {
          "output_type": "execute_result",
          "data": {
            "text/plain": [
              "('n', 'n')"
            ]
          },
          "metadata": {},
          "execution_count": 81
        }
      ]
    },
    {
      "cell_type": "code",
      "source": [
        "s[6]"
      ],
      "metadata": {
        "colab": {
          "base_uri": "https://localhost:8080/",
          "height": 172
        },
        "id": "zDZklW_b4elV",
        "outputId": "773d5943-240f-453e-d3ee-0998dfdfbbdf"
      },
      "execution_count": null,
      "outputs": [
        {
          "output_type": "error",
          "ename": "IndexError",
          "evalue": "ignored",
          "traceback": [
            "\u001b[0;31m---------------------------------------------------------------------------\u001b[0m",
            "\u001b[0;31mIndexError\u001b[0m                                Traceback (most recent call last)",
            "\u001b[0;32m<ipython-input-82-c4bc18d4aa1b>\u001b[0m in \u001b[0;36m<module>\u001b[0;34m\u001b[0m\n\u001b[0;32m----> 1\u001b[0;31m \u001b[0ms\u001b[0m\u001b[0;34m[\u001b[0m\u001b[0;36m6\u001b[0m\u001b[0;34m]\u001b[0m\u001b[0;34m\u001b[0m\u001b[0;34m\u001b[0m\u001b[0m\n\u001b[0m",
            "\u001b[0;31mIndexError\u001b[0m: string index out of range"
          ]
        }
      ]
    },
    {
      "cell_type": "code",
      "source": [
        "s[-1]"
      ],
      "metadata": {
        "colab": {
          "base_uri": "https://localhost:8080/",
          "height": 35
        },
        "id": "j-mjyXuQ4gWN",
        "outputId": "46e8c4ea-4853-4142-857f-b66610133097"
      },
      "execution_count": null,
      "outputs": [
        {
          "output_type": "execute_result",
          "data": {
            "text/plain": [
              "'n'"
            ],
            "application/vnd.google.colaboratory.intrinsic+json": {
              "type": "string"
            }
          },
          "metadata": {},
          "execution_count": 83
        }
      ]
    },
    {
      "cell_type": "code",
      "source": [
        "s[-7]"
      ],
      "metadata": {
        "colab": {
          "base_uri": "https://localhost:8080/",
          "height": 172
        },
        "id": "Q1tgfGx-4uWn",
        "outputId": "f1b2ad00-6dd9-4ba6-e1f5-cd64b952505f"
      },
      "execution_count": null,
      "outputs": [
        {
          "output_type": "error",
          "ename": "IndexError",
          "evalue": "ignored",
          "traceback": [
            "\u001b[0;31m---------------------------------------------------------------------------\u001b[0m",
            "\u001b[0;31mIndexError\u001b[0m                                Traceback (most recent call last)",
            "\u001b[0;32m<ipython-input-84-f93c2f8ec6cd>\u001b[0m in \u001b[0;36m<module>\u001b[0;34m\u001b[0m\n\u001b[0;32m----> 1\u001b[0;31m \u001b[0ms\u001b[0m\u001b[0;34m[\u001b[0m\u001b[0;34m-\u001b[0m\u001b[0;36m7\u001b[0m\u001b[0;34m]\u001b[0m\u001b[0;34m\u001b[0m\u001b[0;34m\u001b[0m\u001b[0m\n\u001b[0m",
            "\u001b[0;31mIndexError\u001b[0m: string index out of range"
          ]
        }
      ]
    },
    {
      "cell_type": "markdown",
      "source": [
        "* slicing\n"
      ],
      "metadata": {
        "id": "fJxAY_TX4w9L"
      }
    },
    {
      "cell_type": "code",
      "source": [
        "s[1:4]"
      ],
      "metadata": {
        "colab": {
          "base_uri": "https://localhost:8080/",
          "height": 35
        },
        "id": "XQ94OjdJ4vhB",
        "outputId": "7106d551-2044-4de1-d9c8-0469e8427de0"
      },
      "execution_count": null,
      "outputs": [
        {
          "output_type": "execute_result",
          "data": {
            "text/plain": [
              "'yth'"
            ],
            "application/vnd.google.colaboratory.intrinsic+json": {
              "type": "string"
            }
          },
          "metadata": {},
          "execution_count": 85
        }
      ]
    },
    {
      "cell_type": "code",
      "source": [
        "s[1:]"
      ],
      "metadata": {
        "colab": {
          "base_uri": "https://localhost:8080/",
          "height": 35
        },
        "id": "U-soCxDk5mEA",
        "outputId": "db828056-06d3-495c-ef55-e3a25ec75f81"
      },
      "execution_count": null,
      "outputs": [
        {
          "output_type": "execute_result",
          "data": {
            "text/plain": [
              "'ython'"
            ],
            "application/vnd.google.colaboratory.intrinsic+json": {
              "type": "string"
            }
          },
          "metadata": {},
          "execution_count": 86
        }
      ]
    },
    {
      "cell_type": "code",
      "source": [
        "s[:4]"
      ],
      "metadata": {
        "colab": {
          "base_uri": "https://localhost:8080/",
          "height": 35
        },
        "id": "cWKhGN015mto",
        "outputId": "70c77ebb-ef00-45b3-fb19-72193439c551"
      },
      "execution_count": null,
      "outputs": [
        {
          "output_type": "execute_result",
          "data": {
            "text/plain": [
              "'pyth'"
            ],
            "application/vnd.google.colaboratory.intrinsic+json": {
              "type": "string"
            }
          },
          "metadata": {},
          "execution_count": 87
        }
      ]
    },
    {
      "cell_type": "code",
      "source": [
        "s[:]"
      ],
      "metadata": {
        "colab": {
          "base_uri": "https://localhost:8080/",
          "height": 35
        },
        "id": "_7LPDQJc5oOg",
        "outputId": "813ea1a9-6bfb-4ad5-e526-a615e6a39288"
      },
      "execution_count": null,
      "outputs": [
        {
          "output_type": "execute_result",
          "data": {
            "text/plain": [
              "'python'"
            ],
            "application/vnd.google.colaboratory.intrinsic+json": {
              "type": "string"
            }
          },
          "metadata": {},
          "execution_count": 88
        }
      ]
    },
    {
      "cell_type": "code",
      "source": [
        "s[1:4:2]"
      ],
      "metadata": {
        "colab": {
          "base_uri": "https://localhost:8080/",
          "height": 35
        },
        "id": "P2qhP-9j5oyp",
        "outputId": "c0fd82c5-d703-4678-91fc-401c51de3b7a"
      },
      "execution_count": null,
      "outputs": [
        {
          "output_type": "execute_result",
          "data": {
            "text/plain": [
              "'yh'"
            ],
            "application/vnd.google.colaboratory.intrinsic+json": {
              "type": "string"
            }
          },
          "metadata": {},
          "execution_count": 89
        }
      ]
    },
    {
      "cell_type": "markdown",
      "source": [
        "⭐ 값 뒤집을 때 사용 가능한 방법 1 --> 변수의 값 자체가 바뀌진 않음\\\n",
        "(두번째 방법은 reverse 함수)"
      ],
      "metadata": {
        "id": "y6DcfsDTonP5"
      }
    },
    {
      "cell_type": "code",
      "source": [
        "# 값을 뒤집을 때 사용 가능함...중요\n",
        "s[::-1]"
      ],
      "metadata": {
        "colab": {
          "base_uri": "https://localhost:8080/",
          "height": 35
        },
        "id": "CrnG5OZz50EZ",
        "outputId": "dc6a5a64-ba70-419a-aee5-09095288856b"
      },
      "execution_count": null,
      "outputs": [
        {
          "output_type": "execute_result",
          "data": {
            "text/plain": [
              "'nohtyp'"
            ],
            "application/vnd.google.colaboratory.intrinsic+json": {
              "type": "string"
            }
          },
          "metadata": {},
          "execution_count": 92
        }
      ]
    },
    {
      "cell_type": "markdown",
      "metadata": {
        "id": "hEtTPLyphGzH"
      },
      "source": [
        "### 연습문제"
      ]
    },
    {
      "cell_type": "code",
      "metadata": {
        "colab": {
          "base_uri": "https://localhost:8080/"
        },
        "id": "HdstRgDGhKdy",
        "outputId": "72090f2b-cc92-40c2-9828-d0d128bb7ab3"
      },
      "source": [
        "ssn = '881225-1234567'\n",
        "\n",
        "year = ssn[:2]\n",
        "month = ssn[2:4]\n",
        "day = ssn[4:6]\n",
        "gender = ssn[7]\n",
        "\n",
        "\n",
        "print(\"생년월일 :\", year, month, day)\n",
        "print(\"성별 : \" + gender)"
      ],
      "execution_count": null,
      "outputs": [
        {
          "output_type": "stream",
          "name": "stdout",
          "text": [
            "생년월일 : 88 12 25\n",
            "성별 : 1\n"
          ]
        }
      ]
    },
    {
      "cell_type": "markdown",
      "metadata": {
        "id": "H8qcDP7-uwiw"
      },
      "source": [
        "## 문자열 메서드"
      ]
    },
    {
      "cell_type": "code",
      "source": [
        "s.find('t')"
      ],
      "metadata": {
        "id": "T80K_ZAOLuur",
        "colab": {
          "base_uri": "https://localhost:8080/"
        },
        "outputId": "a9ca7c16-d36b-4080-f8b4-fc0452c83172"
      },
      "execution_count": null,
      "outputs": [
        {
          "output_type": "execute_result",
          "data": {
            "text/plain": [
              "2"
            ]
          },
          "metadata": {},
          "execution_count": 106
        }
      ]
    },
    {
      "cell_type": "code",
      "source": [
        "\"010-1234-5678\".split('-')"
      ],
      "metadata": {
        "colab": {
          "base_uri": "https://localhost:8080/"
        },
        "id": "Y2I-CJRQ8GL9",
        "outputId": "81b93c4e-931b-452a-c1b5-0beb87833d28"
      },
      "execution_count": null,
      "outputs": [
        {
          "output_type": "execute_result",
          "data": {
            "text/plain": [
              "['010', '1234', '5678']"
            ]
          },
          "metadata": {},
          "execution_count": 107
        }
      ]
    },
    {
      "cell_type": "code",
      "source": [
        "'-'.join(['010', '1234', '5678'])"
      ],
      "metadata": {
        "colab": {
          "base_uri": "https://localhost:8080/",
          "height": 35
        },
        "id": "2QaB7-Pf8Kqh",
        "outputId": "802bb577-e4a6-4a9a-8429-1c4d1e4de811"
      },
      "execution_count": null,
      "outputs": [
        {
          "output_type": "execute_result",
          "data": {
            "text/plain": [
              "'010-1234-5678'"
            ],
            "application/vnd.google.colaboratory.intrinsic+json": {
              "type": "string"
            }
          },
          "metadata": {},
          "execution_count": 108
        }
      ]
    },
    {
      "cell_type": "markdown",
      "metadata": {
        "id": "PTHon7kyuyhY"
      },
      "source": [
        "## 문자열 포맷팅"
      ]
    },
    {
      "cell_type": "code",
      "source": [
        "name = \"lee\"\n",
        "age = 27\n",
        "\n",
        "print(\"My name is %s, I am %d years old\" % (name, age))"
      ],
      "metadata": {
        "id": "hkYyE1bzLynn",
        "colab": {
          "base_uri": "https://localhost:8080/"
        },
        "outputId": "c13b4671-0c2b-470d-e290-ad99fa9a8dd2"
      },
      "execution_count": null,
      "outputs": [
        {
          "output_type": "stream",
          "name": "stdout",
          "text": [
            "My name is lee, I am 27 years old\n"
          ]
        }
      ]
    },
    {
      "cell_type": "code",
      "source": [
        "# 정수나 실수를 %s로 출력해도 출력 되지만, 자릿수 조절 불가능\n",
        "print(\"price: %f, count: %d\" % (12.34567, 10))\n",
        "print(\"price: %f, count: %d\" % (1234.567, 100))\n",
        "print(\"-------------------------------------\")\n",
        "print(\"price: %10.2f, count: %3d\" % (12.34567, 10))\n",
        "print(\"price: %10.2f, count: %3d\" % (1234.567, 100))\n",
        "print(\"-------------------------------------\")\n",
        "print(\"price: %0.2f, count: %3d\" % (12.34567, 10))\n",
        "print(\"price: %0.2f, count: %3d\" % (1234.567, 100))\n",
        "print(\"price: %.2f, count: %3d\" % (12.34567, 10))\n",
        "print(\"price: %.2f, count: %3d\" % (1234.567, 100))\n",
        "print(\"-------------------------------------\")\n",
        "print(\"price: %7.2f, count: %3d\" % (12.34567, 10))\n",
        "print(\"price: %7.2f, count: %3d\" % (1234.567, 100))"
      ],
      "metadata": {
        "colab": {
          "base_uri": "https://localhost:8080/"
        },
        "id": "exEB30wD8-eg",
        "outputId": "0636ecc5-b990-4ab5-9983-ea6cda1c106d"
      },
      "execution_count": null,
      "outputs": [
        {
          "output_type": "stream",
          "name": "stdout",
          "text": [
            "price: 12.345670, count: 10\n",
            "price: 1234.567000, count: 100\n",
            "-------------------------------------\n",
            "price:      12.35, count:  10\n",
            "price:    1234.57, count: 100\n",
            "-------------------------------------\n",
            "price: 12.35, count:  10\n",
            "price: 1234.57, count: 100\n",
            "price: 12.35, count:  10\n",
            "price: 1234.57, count: 100\n",
            "-------------------------------------\n",
            "price:   12.35, count:  10\n",
            "price: 1234.57, count: 100\n"
          ]
        }
      ]
    },
    {
      "cell_type": "code",
      "source": [
        "\"My name is {} and I am {} years old\".format(name, age)"
      ],
      "metadata": {
        "colab": {
          "base_uri": "https://localhost:8080/",
          "height": 35
        },
        "id": "sAaGExztO48-",
        "outputId": "41bd332e-71c2-4e5b-a504-51b77434adf2"
      },
      "execution_count": null,
      "outputs": [
        {
          "output_type": "execute_result",
          "data": {
            "text/plain": [
              "'My name is lee and I am 27 years old'"
            ],
            "application/vnd.google.colaboratory.intrinsic+json": {
              "type": "string"
            }
          },
          "metadata": {},
          "execution_count": 119
        }
      ]
    },
    {
      "cell_type": "code",
      "source": [
        "# 변수 순서 잘 지켜야 함. 아니면 {} 안에 숫자로 순서 지정 가능\n",
        "\"My name is {1} and I am {0} years old\".format(age, name)"
      ],
      "metadata": {
        "colab": {
          "base_uri": "https://localhost:8080/",
          "height": 35
        },
        "id": "yx72EgxdPCh4",
        "outputId": "db11080a-f749-48b8-e8ab-09622d9a3560"
      },
      "execution_count": null,
      "outputs": [
        {
          "output_type": "execute_result",
          "data": {
            "text/plain": [
              "'My name is lee and I am 27 years old'"
            ],
            "application/vnd.google.colaboratory.intrinsic+json": {
              "type": "string"
            }
          },
          "metadata": {},
          "execution_count": 121
        }
      ]
    },
    {
      "cell_type": "code",
      "source": [
        "# 많이 쓰는 방식.\n",
        "print(\"My name is {a} and I am {b} years old\".format(b=age, a=name))\n",
        "# 자리 확보 \n",
        "print(\"My name is {a} and I am {b:5} years old\".format(b=age, a=name))"
      ],
      "metadata": {
        "colab": {
          "base_uri": "https://localhost:8080/"
        },
        "id": "dooxQSUiPMIl",
        "outputId": "ebf577fc-b826-4072-f74f-8cd09e6307cc"
      },
      "execution_count": null,
      "outputs": [
        {
          "output_type": "stream",
          "name": "stdout",
          "text": [
            "My name is lee and I am 27 years old\n",
            "My name is lee and I am    27 years old\n"
          ]
        }
      ]
    },
    {
      "cell_type": "markdown",
      "source": [
        "⚽⚽⚽\\\n",
        "f-string 함수"
      ],
      "metadata": {
        "id": "Hy6G0Ad_1mWb"
      }
    },
    {
      "cell_type": "code",
      "source": [
        "# f-string\n",
        "# {} 안에 수식도 넣을 수 있음\n",
        "f\"My name is {name} and I am {age:5d} years old.\""
      ],
      "metadata": {
        "colab": {
          "base_uri": "https://localhost:8080/",
          "height": 35
        },
        "id": "IfjB2xk0Pg-g",
        "outputId": "ab6e1a87-d552-4d58-ff8e-5aad99239572"
      },
      "execution_count": null,
      "outputs": [
        {
          "output_type": "execute_result",
          "data": {
            "text/plain": [
              "'My name is lee and I am    27 years old.'"
            ],
            "application/vnd.google.colaboratory.intrinsic+json": {
              "type": "string"
            }
          },
          "metadata": {},
          "execution_count": 127
        }
      ]
    },
    {
      "cell_type": "markdown",
      "metadata": {
        "id": "5ETlKWfvzct0"
      },
      "source": [
        "## 입출력"
      ]
    },
    {
      "cell_type": "code",
      "source": [
        "# print는 기본적으로 sep=' ', end='\\n'가 적용됨\n",
        "print(\"hello\", 10, 3.14)"
      ],
      "metadata": {
        "id": "BeuQP_ZhL0M_",
        "colab": {
          "base_uri": "https://localhost:8080/"
        },
        "outputId": "ecf87db9-3f71-4deb-a1dd-3842636df8a4"
      },
      "execution_count": null,
      "outputs": [
        {
          "output_type": "stream",
          "name": "stdout",
          "text": [
            "hello 10 3.14\n"
          ]
        }
      ]
    },
    {
      "cell_type": "code",
      "source": [
        "print(\"hello\", 10, 3.14, sep=',')"
      ],
      "metadata": {
        "colab": {
          "base_uri": "https://localhost:8080/"
        },
        "id": "2cuM-BUzQaF7",
        "outputId": "2dbfe342-7fb4-430c-9678-836974a706ed"
      },
      "execution_count": null,
      "outputs": [
        {
          "output_type": "stream",
          "name": "stdout",
          "text": [
            "hello,10,3.14\n"
          ]
        }
      ]
    },
    {
      "cell_type": "code",
      "source": [
        "print(\"hello\")\n",
        "print(\"world\")"
      ],
      "metadata": {
        "colab": {
          "base_uri": "https://localhost:8080/"
        },
        "id": "SYVWUBXVQrGS",
        "outputId": "588277a1-8e1a-42f9-9d10-7b269b21b071"
      },
      "execution_count": null,
      "outputs": [
        {
          "output_type": "stream",
          "name": "stdout",
          "text": [
            "hello,10,3.14\n"
          ]
        }
      ]
    },
    {
      "cell_type": "code",
      "source": [
        "print(\"hello\", end=\" \")\n",
        "print(\"world\")"
      ],
      "metadata": {
        "colab": {
          "base_uri": "https://localhost:8080/"
        },
        "id": "wB0wphaQQ2hk",
        "outputId": "60be97e6-afaf-4bf7-9ec8-12e0b6a6c3eb"
      },
      "execution_count": null,
      "outputs": [
        {
          "output_type": "stream",
          "name": "stdout",
          "text": [
            "hello world\n"
          ]
        }
      ]
    },
    {
      "cell_type": "markdown",
      "source": [
        "⚽⚽⚽\\\n",
        "사용자 입력 받기\\\n",
        "🛑 키보드 입력은 무조건 문자열로 들어옴"
      ],
      "metadata": {
        "id": "-eG7dQZs1y43"
      }
    },
    {
      "cell_type": "code",
      "source": [
        "# 입력받기.. 입력 될때까지 실행됨\n",
        "name = input(\"이름을 입력하세요: \")\n",
        "print(\"당신의 이름은 %s 이군요\" % name)"
      ],
      "metadata": {
        "colab": {
          "base_uri": "https://localhost:8080/"
        },
        "id": "Qz4tTD_EQ_ND",
        "outputId": "68c0c825-0f31-4e66-bb7c-1798c999e616"
      },
      "execution_count": null,
      "outputs": [
        {
          "output_type": "stream",
          "name": "stdout",
          "text": [
            "이름을 입력하세요: \n",
            "당신의 이름은  이군요\n"
          ]
        }
      ]
    },
    {
      "cell_type": "code",
      "source": [
        "# 키보드 입력은 무조건 문자열로 인식됨.\n",
        "# 입력값을 숫자로 이용하고 싶으면 casting 해줘야 함\n",
        "age = input(\"나이를 입력하세요: \")\n",
        "print(\"100세까지 %d년 남았습니다.\" % (100-int(age)))"
      ],
      "metadata": {
        "colab": {
          "base_uri": "https://localhost:8080/"
        },
        "id": "r6qer6PTRVTE",
        "outputId": "bf972cf2-2aff-4ac3-800e-74b9abc1504b"
      },
      "execution_count": null,
      "outputs": [
        {
          "output_type": "stream",
          "name": "stdout",
          "text": [
            "나이를 입력하세요: 24\n",
            "100세까지 76년 남았습니다.\n"
          ]
        }
      ]
    },
    {
      "cell_type": "markdown",
      "metadata": {
        "id": "d0q6yCydzet1"
      },
      "source": [
        "# 3.자료구조 "
      ]
    },
    {
      "cell_type": "markdown",
      "metadata": {
        "id": "ZbRwcM3jziY-"
      },
      "source": [
        "## List"
      ]
    },
    {
      "cell_type": "code",
      "source": [
        "a = [1,2,3,4]\n",
        "a"
      ],
      "metadata": {
        "id": "jAJXZJ5QL5xX",
        "colab": {
          "base_uri": "https://localhost:8080/"
        },
        "outputId": "14934ce1-1faa-433e-a253-81fba0c02170"
      },
      "execution_count": 8,
      "outputs": [
        {
          "output_type": "execute_result",
          "data": {
            "text/plain": [
              "[1, 2, 3, 4]"
            ]
          },
          "metadata": {},
          "execution_count": 8
        }
      ]
    },
    {
      "cell_type": "code",
      "source": [
        "b = [3.14, \"hello\", [10,20,30]]\n",
        "b"
      ],
      "metadata": {
        "colab": {
          "base_uri": "https://localhost:8080/"
        },
        "id": "k7SBBpoDSfVn",
        "outputId": "7f4feb4e-c4da-4c5b-92d5-44ecf794ba1d"
      },
      "execution_count": null,
      "outputs": [
        {
          "output_type": "execute_result",
          "data": {
            "text/plain": [
              "[3.14, 'hello', [10, 20, 30]]"
            ]
          },
          "metadata": {},
          "execution_count": 141
        }
      ]
    },
    {
      "cell_type": "code",
      "source": [
        "a + b"
      ],
      "metadata": {
        "colab": {
          "base_uri": "https://localhost:8080/"
        },
        "id": "C62CdHyOSmUH",
        "outputId": "9bf2d58e-b4ab-46e8-f69c-743da8427881"
      },
      "execution_count": null,
      "outputs": [
        {
          "output_type": "execute_result",
          "data": {
            "text/plain": [
              "[1, 2, 3, 4, 3.14, 'hello', [10, 20, 30]]"
            ]
          },
          "metadata": {},
          "execution_count": 142
        }
      ]
    },
    {
      "cell_type": "code",
      "source": [
        "a[0]"
      ],
      "metadata": {
        "colab": {
          "base_uri": "https://localhost:8080/"
        },
        "id": "qQdbYLqISpN4",
        "outputId": "74e9712c-4584-4920-c3fd-3353e0effd67"
      },
      "execution_count": null,
      "outputs": [
        {
          "output_type": "execute_result",
          "data": {
            "text/plain": [
              "1"
            ]
          },
          "metadata": {},
          "execution_count": 143
        }
      ]
    },
    {
      "cell_type": "code",
      "source": [
        "print(b[2])\n",
        "print(b[2][1])"
      ],
      "metadata": {
        "colab": {
          "base_uri": "https://localhost:8080/"
        },
        "id": "5rCOOibQSqvI",
        "outputId": "48067f6c-f1fb-48e2-ca0d-3a62b5c56044"
      },
      "execution_count": null,
      "outputs": [
        {
          "output_type": "stream",
          "name": "stdout",
          "text": [
            "[10, 20, 30]\n",
            "20\n"
          ]
        }
      ]
    },
    {
      "cell_type": "code",
      "source": [
        "a[0] = 100\n",
        "a"
      ],
      "metadata": {
        "colab": {
          "base_uri": "https://localhost:8080/"
        },
        "id": "Fdipu6JDSsee",
        "outputId": "ddb52e79-d61a-4bf9-c246-663109439c0e"
      },
      "execution_count": null,
      "outputs": [
        {
          "output_type": "execute_result",
          "data": {
            "text/plain": [
              "[100, 2, 3, 4]"
            ]
          },
          "metadata": {},
          "execution_count": 149
        }
      ]
    },
    {
      "cell_type": "markdown",
      "source": [
        "---\n",
        "list에 요소 추가"
      ],
      "metadata": {
        "id": "fyoYjRDK2WD2"
      }
    },
    {
      "cell_type": "code",
      "source": [
        "# a 자체가 바뀜\n",
        "a.append(5)\n",
        "a"
      ],
      "metadata": {
        "colab": {
          "base_uri": "https://localhost:8080/"
        },
        "id": "p2ahU_2RS8pT",
        "outputId": "88f28fec-8dc2-4967-9fc7-f2d0aa496682"
      },
      "execution_count": null,
      "outputs": [
        {
          "output_type": "execute_result",
          "data": {
            "text/plain": [
              "[100, 2, 3, 4, 5]"
            ]
          },
          "metadata": {},
          "execution_count": 150
        }
      ]
    },
    {
      "cell_type": "code",
      "source": [
        "# insert(n, v): n번째 자리에 v를 넣음\n",
        "a.insert(1, 200)\n",
        "a"
      ],
      "metadata": {
        "colab": {
          "base_uri": "https://localhost:8080/"
        },
        "id": "MtzXALazTJyF",
        "outputId": "62471785-9e7c-46e2-ef58-032e2b6011fd"
      },
      "execution_count": null,
      "outputs": [
        {
          "output_type": "execute_result",
          "data": {
            "text/plain": [
              "[100, 200, 2, 3, 4, 5]"
            ]
          },
          "metadata": {},
          "execution_count": 152
        }
      ]
    },
    {
      "cell_type": "markdown",
      "source": [
        "---\n",
        "list 요소 삭제"
      ],
      "metadata": {
        "id": "X82fnQ6C2bOQ"
      }
    },
    {
      "cell_type": "code",
      "source": [
        "# 요소 삭제_index로.. 인자 없으면 가장 마지막 요소 삭제\n",
        "print(a)\n",
        "print(a.pop())\n",
        "print(a)"
      ],
      "metadata": {
        "colab": {
          "base_uri": "https://localhost:8080/"
        },
        "id": "J4_1lzcATWa0",
        "outputId": "536c48a0-b648-418d-a89b-054b013d277a"
      },
      "execution_count": 9,
      "outputs": [
        {
          "output_type": "stream",
          "name": "stdout",
          "text": [
            "[1, 2, 3, 4]\n",
            "4\n",
            "[1, 2, 3]\n"
          ]
        }
      ]
    },
    {
      "cell_type": "code",
      "source": [
        "print(a.pop(1))\n",
        "print(a)"
      ],
      "metadata": {
        "colab": {
          "base_uri": "https://localhost:8080/"
        },
        "id": "dpZVPT48Tm4d",
        "outputId": "afefe699-10f4-4022-87df-d692e47d3589"
      },
      "execution_count": 10,
      "outputs": [
        {
          "output_type": "stream",
          "name": "stdout",
          "text": [
            "2\n",
            "[1, 3]\n"
          ]
        }
      ]
    },
    {
      "cell_type": "code",
      "source": [
        "# 요소 삭제_값으로\n",
        "a.remove(2)\n",
        "a"
      ],
      "metadata": {
        "colab": {
          "base_uri": "https://localhost:8080/"
        },
        "id": "vQSgOKW8TndL",
        "outputId": "1c480e1e-c685-4c11-8514-60c13be5fd29"
      },
      "execution_count": null,
      "outputs": [
        {
          "output_type": "execute_result",
          "data": {
            "text/plain": [
              "[100, 3]"
            ]
          },
          "metadata": {},
          "execution_count": 168
        }
      ]
    },
    {
      "cell_type": "code",
      "source": [
        "a.append(3)\n",
        "a"
      ],
      "metadata": {
        "colab": {
          "base_uri": "https://localhost:8080/"
        },
        "id": "Kt0X3jcOT8gr",
        "outputId": "05d0f5bd-2f96-43d1-e027-cfe5665b426b"
      },
      "execution_count": null,
      "outputs": [
        {
          "output_type": "execute_result",
          "data": {
            "text/plain": [
              "[100, 2, 3]"
            ]
          },
          "metadata": {},
          "execution_count": 167
        }
      ]
    },
    {
      "cell_type": "code",
      "source": [
        "# remove의 값이 여러개 있으면 가장 먼저 만나는 하나를 지움\n",
        "a.remove(3)\n",
        "a"
      ],
      "metadata": {
        "colab": {
          "base_uri": "https://localhost:8080/"
        },
        "id": "hhfDY0XAUCxh",
        "outputId": "085a2924-06b8-42fb-ad11-94a7d3d721b5"
      },
      "execution_count": null,
      "outputs": [
        {
          "output_type": "execute_result",
          "data": {
            "text/plain": [
              "[100, 3]"
            ]
          },
          "metadata": {},
          "execution_count": 163
        }
      ]
    },
    {
      "cell_type": "markdown",
      "metadata": {
        "id": "RaNVJRjm086l"
      },
      "source": [
        "### 연습문제"
      ]
    },
    {
      "cell_type": "code",
      "metadata": {
        "colab": {
          "base_uri": "https://localhost:8080/"
        },
        "id": "3Y37mqVS0-b8",
        "outputId": "0b53344a-7c2b-4ecb-f450-bb2d6eecbc17"
      },
      "source": [
        "score = [['math', 89], ['english']]\n",
        "\n",
        "score[1].append(85)\n",
        "score"
      ],
      "execution_count": null,
      "outputs": [
        {
          "output_type": "execute_result",
          "data": {
            "text/plain": [
              "[['math', 89], ['english', 85]]"
            ]
          },
          "metadata": {},
          "execution_count": 170
        }
      ]
    },
    {
      "cell_type": "markdown",
      "source": [
        "---"
      ],
      "metadata": {
        "id": "EaOIzYZ23EZr"
      }
    },
    {
      "cell_type": "code",
      "metadata": {
        "id": "MjENMC8h1IeD"
      },
      "source": [
        "lst = [1,3,5,4,2]"
      ],
      "execution_count": null,
      "outputs": []
    },
    {
      "cell_type": "code",
      "source": [
        "#1. slicing 활용.. 원본 자체가 바뀌는건 아님\n",
        "lst[::-1]"
      ],
      "metadata": {
        "colab": {
          "base_uri": "https://localhost:8080/"
        },
        "id": "1P4BakedUoz6",
        "outputId": "feed9321-3821-43db-b825-81b01c6a99b0"
      },
      "execution_count": null,
      "outputs": [
        {
          "output_type": "execute_result",
          "data": {
            "text/plain": [
              "[2, 4, 5, 3, 1]"
            ]
          },
          "metadata": {},
          "execution_count": 179
        }
      ]
    },
    {
      "cell_type": "code",
      "source": [
        "#2. method 활용 .. 원본 자체가 바뀜\n",
        "lst.reverse()\n",
        "lst"
      ],
      "metadata": {
        "id": "84MAKKHGU_SR"
      },
      "execution_count": null,
      "outputs": []
    },
    {
      "cell_type": "markdown",
      "source": [
        "---"
      ],
      "metadata": {
        "id": "d997vTss3GI-"
      }
    },
    {
      "cell_type": "code",
      "metadata": {
        "colab": {
          "base_uri": "https://localhost:8080/",
          "height": 35
        },
        "id": "jCgIudPV1N7O",
        "outputId": "95acde92-fab2-4237-c239-d220a43b1964"
      },
      "source": [
        "['Python', 'is', 'too', 'interesting']\n",
        "\n",
        "' '.join(['Python', 'is', 'too', 'interesting'])"
      ],
      "execution_count": null,
      "outputs": [
        {
          "output_type": "execute_result",
          "data": {
            "text/plain": [
              "'Python is too interesting'"
            ],
            "application/vnd.google.colaboratory.intrinsic+json": {
              "type": "string"
            }
          },
          "metadata": {},
          "execution_count": 182
        }
      ]
    },
    {
      "cell_type": "markdown",
      "metadata": {
        "id": "m9o2uP3azxBe"
      },
      "source": [
        "## Tuple"
      ]
    },
    {
      "cell_type": "code",
      "source": [
        "t = (1,2,3,4)\n",
        "t"
      ],
      "metadata": {
        "id": "WilLOV3HL_qH",
        "colab": {
          "base_uri": "https://localhost:8080/"
        },
        "outputId": "bde9980f-6172-4d0f-bfaf-bd5aec13c7fa"
      },
      "execution_count": null,
      "outputs": [
        {
          "output_type": "execute_result",
          "data": {
            "text/plain": [
              "(1, 2, 3, 4)"
            ]
          },
          "metadata": {},
          "execution_count": 183
        }
      ]
    },
    {
      "cell_type": "code",
      "source": [
        "# tuple은 읽기 전용이므로 수정 불가\n",
        "t[1] = 100"
      ],
      "metadata": {
        "colab": {
          "base_uri": "https://localhost:8080/",
          "height": 190
        },
        "id": "H6Nokkp2V7Oh",
        "outputId": "2fd7282f-a091-4246-b2dd-8324f76752db"
      },
      "execution_count": null,
      "outputs": [
        {
          "output_type": "error",
          "ename": "TypeError",
          "evalue": "ignored",
          "traceback": [
            "\u001b[0;31m---------------------------------------------------------------------------\u001b[0m",
            "\u001b[0;31mTypeError\u001b[0m                                 Traceback (most recent call last)",
            "\u001b[0;32m<ipython-input-185-12edfeaa2a85>\u001b[0m in \u001b[0;36m<module>\u001b[0;34m\u001b[0m\n\u001b[1;32m      1\u001b[0m \u001b[0;31m# tuple은 읽기 전용이므로 수정 불가\u001b[0m\u001b[0;34m\u001b[0m\u001b[0;34m\u001b[0m\u001b[0;34m\u001b[0m\u001b[0m\n\u001b[0;32m----> 2\u001b[0;31m \u001b[0mt\u001b[0m\u001b[0;34m[\u001b[0m\u001b[0;36m1\u001b[0m\u001b[0;34m]\u001b[0m \u001b[0;34m=\u001b[0m \u001b[0;36m100\u001b[0m\u001b[0;34m\u001b[0m\u001b[0;34m\u001b[0m\u001b[0m\n\u001b[0m",
            "\u001b[0;31mTypeError\u001b[0m: 'tuple' object does not support item assignment"
          ]
        }
      ]
    },
    {
      "cell_type": "code",
      "source": [
        "# tuple을 선언할 땐 괄호와 콤마가 필요하다. 특히 콤마가 중요함\n",
        "t2 = (10, 20)\n",
        "print(t2, type(t2))\n",
        "\n",
        "# 콤마 없으면 tuple 아님. 괄호는 우선순위를 지정하는 의미기 때문에 괄호에는 큰 의미 없음(다음 셀 예제처럼)\n",
        "t3 = (10)\n",
        "print(t3, type(t3))\n",
        "\n",
        "t4 = (10, )\n",
        "print(t4, type(t4))"
      ],
      "metadata": {
        "colab": {
          "base_uri": "https://localhost:8080/"
        },
        "id": "6Fnl22iRWEoo",
        "outputId": "5af775af-c41f-43ff-88f5-5382f26d7d0c"
      },
      "execution_count": null,
      "outputs": [
        {
          "output_type": "stream",
          "name": "stdout",
          "text": [
            "(10, 20) <class 'tuple'>\n",
            "10 <class 'int'>\n",
            "(10,) <class 'tuple'>\n"
          ]
        }
      ]
    },
    {
      "cell_type": "code",
      "source": [
        "(2) + (3 * 4)"
      ],
      "metadata": {
        "colab": {
          "base_uri": "https://localhost:8080/"
        },
        "id": "KVMQXJeGWdC0",
        "outputId": "30328552-60d6-4dee-af1b-da2e677672ce"
      },
      "execution_count": null,
      "outputs": [
        {
          "output_type": "execute_result",
          "data": {
            "text/plain": [
              "14"
            ]
          },
          "metadata": {},
          "execution_count": 191
        }
      ]
    },
    {
      "cell_type": "code",
      "source": [
        "t3 = 10, 20, 30\n",
        "t3, type(t3)"
      ],
      "metadata": {
        "colab": {
          "base_uri": "https://localhost:8080/"
        },
        "id": "r7EuzjFmW4Rd",
        "outputId": "2bffaa40-5e2a-4f09-9bdd-52dcc85d3260"
      },
      "execution_count": null,
      "outputs": [
        {
          "output_type": "execute_result",
          "data": {
            "text/plain": [
              "((10, 20, 30), tuple)"
            ]
          },
          "metadata": {},
          "execution_count": 192
        }
      ]
    },
    {
      "cell_type": "code",
      "source": [
        "# 그럼에도 튜플에 괄호가 꼭 필요한 이유\n",
        "lst1 = [10, 20, \"hello\", [1, 2, 3], 10, 20, 30]\n",
        "lst2 = [10, 20, \"hello\", [1, 2, 3], (10, 20, 30)]\n",
        "print(lst1)\n",
        "print(lst2)"
      ],
      "metadata": {
        "colab": {
          "base_uri": "https://localhost:8080/"
        },
        "id": "CKiQ9CP1W6sU",
        "outputId": "81f0dd02-feb8-4677-9a16-a6c4af0cb5e3"
      },
      "execution_count": null,
      "outputs": [
        {
          "output_type": "stream",
          "name": "stdout",
          "text": [
            "[10, 20, 'hello', [1, 2, 3], 10, 20, 30]\n",
            "[10, 20, 'hello', [1, 2, 3], (10, 20, 30)]\n"
          ]
        }
      ]
    },
    {
      "cell_type": "code",
      "source": [
        "a = 10\n",
        "b = 20\n",
        "c = 30"
      ],
      "metadata": {
        "id": "A1iwplCLXTrq"
      },
      "execution_count": null,
      "outputs": []
    },
    {
      "cell_type": "code",
      "source": [
        "# 사실상 튜플임. 아래 두 코드는 같음\n",
        "a, b, c = 10, 20, 30\n",
        "print(a, b, c)\n",
        "\n",
        "(a, b, c) = (10, 20, 30)\n",
        "print(a, b, c)"
      ],
      "metadata": {
        "colab": {
          "base_uri": "https://localhost:8080/"
        },
        "id": "vHuRzDW4Xhc7",
        "outputId": "f112c30e-bfa6-4c35-fa93-739469875438"
      },
      "execution_count": null,
      "outputs": [
        {
          "output_type": "stream",
          "name": "stdout",
          "text": [
            "10 20 30\n",
            "10 20 30\n"
          ]
        }
      ]
    },
    {
      "cell_type": "markdown",
      "source": [
        "⚽⚽⚽\\\n",
        "swapping"
      ],
      "metadata": {
        "id": "tEmAY2-V3Z1a"
      }
    },
    {
      "cell_type": "code",
      "source": [
        "coffee = 'beer'\n",
        "beer = 'coffee'\n",
        "coffee, beer"
      ],
      "metadata": {
        "colab": {
          "base_uri": "https://localhost:8080/"
        },
        "id": "B_lHTf6BXjlD",
        "outputId": "60de94ae-2ed2-493d-f332-9d9240ab3dcc"
      },
      "execution_count": null,
      "outputs": [
        {
          "output_type": "execute_result",
          "data": {
            "text/plain": [
              "('beer', 'coffee')"
            ]
          },
          "metadata": {},
          "execution_count": 203
        }
      ]
    },
    {
      "cell_type": "code",
      "source": [
        "# 방법 1\n",
        "temp = coffee\n",
        "coffee = beer\n",
        "beer = temp\n",
        "\n",
        "coffee, beer"
      ],
      "metadata": {
        "colab": {
          "base_uri": "https://localhost:8080/"
        },
        "id": "RYbIAlnCYA7c",
        "outputId": "d64c51ea-9847-4ca4-cb81-2617bf133f09"
      },
      "execution_count": null,
      "outputs": [
        {
          "output_type": "execute_result",
          "data": {
            "text/plain": [
              "('coffee', 'beer')"
            ]
          },
          "metadata": {},
          "execution_count": 201
        }
      ]
    },
    {
      "cell_type": "code",
      "source": [
        "# 방법 2\n",
        "coffee = 'beer'\n",
        "beer = 'coffee'\n",
        "\n",
        "coffee, beer = beer, coffee\n",
        "coffee, beer"
      ],
      "metadata": {
        "colab": {
          "base_uri": "https://localhost:8080/"
        },
        "id": "m69lammWYGlj",
        "outputId": "b6228674-7ee1-47f2-df83-84576118162d"
      },
      "execution_count": null,
      "outputs": [
        {
          "output_type": "execute_result",
          "data": {
            "text/plain": [
              "('coffee', 'beer')"
            ]
          },
          "metadata": {},
          "execution_count": 205
        }
      ]
    },
    {
      "cell_type": "code",
      "source": [
        "# tuple의 값을 꼭 수정해야할 때는 list로 바꿔서 수정 후 다시 tuple로 바꾼다.\n",
        "t = (10, 20, 30)\n",
        "# t[1] = 200\n",
        "\n",
        "lst = list(t)\n",
        "lst[1] = 200\n",
        "t = tuple(lst)\n",
        "t"
      ],
      "metadata": {
        "colab": {
          "base_uri": "https://localhost:8080/"
        },
        "id": "R8aXrrJfYZjW",
        "outputId": "d537c125-6e44-4ce4-f84e-a20da93aea79"
      },
      "execution_count": null,
      "outputs": [
        {
          "output_type": "execute_result",
          "data": {
            "text/plain": [
              "(10, 200, 30)"
            ]
          },
          "metadata": {},
          "execution_count": 206
        }
      ]
    },
    {
      "cell_type": "code",
      "source": [
        "# set은 순서, 중복 없음 \n",
        "st = {1, 2, 3, 1, 2, 3}\n",
        "st"
      ],
      "metadata": {
        "colab": {
          "base_uri": "https://localhost:8080/"
        },
        "id": "SsYMVvWcY6hY",
        "outputId": "f5105368-5cb2-44f3-a5c5-40caeec9f679"
      },
      "execution_count": null,
      "outputs": [
        {
          "output_type": "execute_result",
          "data": {
            "text/plain": [
              "{1, 2, 3}"
            ]
          },
          "metadata": {},
          "execution_count": 207
        }
      ]
    },
    {
      "cell_type": "code",
      "source": [
        "# 순서가 없기 때문에 어떤 위치에 넣는다는 개념 자체가 성립 안됨. 그냥 요소 추가하는 것\n",
        "st.add(4)\n",
        "st"
      ],
      "metadata": {
        "colab": {
          "base_uri": "https://localhost:8080/"
        },
        "id": "WKu6cQt3ZMq6",
        "outputId": "0a655f68-2143-43b0-b550-1ebc5d64a58d"
      },
      "execution_count": null,
      "outputs": [
        {
          "output_type": "execute_result",
          "data": {
            "text/plain": [
              "{1, 2, 3, 4}"
            ]
          },
          "metadata": {},
          "execution_count": 208
        }
      ]
    },
    {
      "cell_type": "code",
      "source": [
        "st.update([5,6,7,8])\n",
        "st"
      ],
      "metadata": {
        "colab": {
          "base_uri": "https://localhost:8080/"
        },
        "id": "BY5B2nBxZZLj",
        "outputId": "b2e472df-6109-451d-9202-43dc1a02ca31"
      },
      "execution_count": null,
      "outputs": [
        {
          "output_type": "execute_result",
          "data": {
            "text/plain": [
              "{1, 2, 3, 4, 5, 6, 7, 8}"
            ]
          },
          "metadata": {},
          "execution_count": 209
        }
      ]
    },
    {
      "cell_type": "markdown",
      "source": [
        "⚽⚽⚽\\\n",
        "discard VS remove"
      ],
      "metadata": {
        "id": "wsaULBWC3r8O"
      }
    },
    {
      "cell_type": "code",
      "source": [
        "# discard와 remove 둘 다 값으로 지운다는 점은 공통(순서가 없기 때문에 index 개념 자체가 없음)\n",
        "# 차이는 없는 값을 지웠을 때 생김. discard는 none값을 return하므로 에러는 안남. remove는 에러남 -> 상황에 맞게 사용\n",
        "st.discard(8)\n",
        "st"
      ],
      "metadata": {
        "colab": {
          "base_uri": "https://localhost:8080/"
        },
        "id": "jNi88J_zZltk",
        "outputId": "ecdaafdc-199e-4d05-8354-51b146b89ed8"
      },
      "execution_count": null,
      "outputs": [
        {
          "output_type": "execute_result",
          "data": {
            "text/plain": [
              "{1, 2, 3, 4, 5, 6, 7}"
            ]
          },
          "metadata": {},
          "execution_count": 210
        }
      ]
    },
    {
      "cell_type": "code",
      "source": [
        "st.remove(7)\n",
        "st"
      ],
      "metadata": {
        "colab": {
          "base_uri": "https://localhost:8080/"
        },
        "id": "2Xoc8efmZw2H",
        "outputId": "20a5f9c5-bf07-464c-dbbf-b075f4746bb5"
      },
      "execution_count": null,
      "outputs": [
        {
          "output_type": "execute_result",
          "data": {
            "text/plain": [
              "{1, 2, 3, 4, 5, 6}"
            ]
          },
          "metadata": {},
          "execution_count": 212
        }
      ]
    },
    {
      "cell_type": "code",
      "source": [
        "# 없는 값을 삭제하면 아무 일도 안일어남\n",
        "st.discard(100)"
      ],
      "metadata": {
        "id": "R_7GE5BWZ1Cf"
      },
      "execution_count": null,
      "outputs": []
    },
    {
      "cell_type": "code",
      "source": [
        "# 없는 값 삭제하면 error\n",
        "st.remove(100)"
      ],
      "metadata": {
        "colab": {
          "base_uri": "https://localhost:8080/",
          "height": 172
        },
        "id": "TMnzRmVAZyfl",
        "outputId": "70dac7a3-8ab7-4abb-d876-7e0da887be9c"
      },
      "execution_count": null,
      "outputs": [
        {
          "output_type": "error",
          "ename": "KeyError",
          "evalue": "ignored",
          "traceback": [
            "\u001b[0;31m---------------------------------------------------------------------------\u001b[0m",
            "\u001b[0;31mKeyError\u001b[0m                                  Traceback (most recent call last)",
            "\u001b[0;32m<ipython-input-214-f91108411a21>\u001b[0m in \u001b[0;36m<module>\u001b[0;34m\u001b[0m\n\u001b[0;32m----> 1\u001b[0;31m \u001b[0mst\u001b[0m\u001b[0;34m.\u001b[0m\u001b[0mremove\u001b[0m\u001b[0;34m(\u001b[0m\u001b[0;36m100\u001b[0m\u001b[0;34m)\u001b[0m\u001b[0;34m\u001b[0m\u001b[0;34m\u001b[0m\u001b[0m\n\u001b[0m",
            "\u001b[0;31mKeyError\u001b[0m: 100"
          ]
        }
      ]
    },
    {
      "cell_type": "code",
      "source": [
        "# 교집합, 합집합...잘 안씀\n",
        "a = {1, 2, 3}\n",
        "b = {2, 3, 4}\n",
        "print(a & b)\n",
        "print(a | b)"
      ],
      "metadata": {
        "colab": {
          "base_uri": "https://localhost:8080/"
        },
        "id": "FDDvTsWJZ48G",
        "outputId": "0ede2938-8aab-4d9e-aaf9-e3d9b0674bd3"
      },
      "execution_count": null,
      "outputs": [
        {
          "output_type": "stream",
          "name": "stdout",
          "text": [
            "{2, 3}\n",
            "{1, 2, 3, 4}\n"
          ]
        }
      ]
    },
    {
      "cell_type": "markdown",
      "metadata": {
        "id": "CUwEMGjSjl6Q"
      },
      "source": [
        "### 연습문제"
      ]
    },
    {
      "cell_type": "code",
      "metadata": {
        "colab": {
          "base_uri": "https://localhost:8080/"
        },
        "id": "uTciImTzjlpR",
        "outputId": "81dd2ce5-57d2-44b6-d638-d4c6c242cff2"
      },
      "source": [
        "lst = [1,1,2,2,3,4,4,5,6,7,2]\n"
      ],
      "execution_count": null,
      "outputs": [
        {
          "output_type": "execute_result",
          "data": {
            "text/plain": [
              "[1, 2, 3, 4, 5, 6, 7]"
            ]
          },
          "metadata": {},
          "execution_count": 6
        }
      ]
    },
    {
      "cell_type": "markdown",
      "metadata": {
        "id": "WP_uHpUN0soW"
      },
      "source": [
        "## Set"
      ]
    },
    {
      "cell_type": "code",
      "source": [],
      "metadata": {
        "id": "2BLrFhg1MDff"
      },
      "execution_count": null,
      "outputs": []
    },
    {
      "cell_type": "markdown",
      "metadata": {
        "id": "dk78db0E0v6u"
      },
      "source": [
        "### 연습문제"
      ]
    },
    {
      "cell_type": "code",
      "source": [
        "# 단어가 총 몇개인지 구하시오\n",
        "song = \"yesterday All my trouble seemed so far away Now it looks as though they're here to stay Oh, I believe in yesterday\""
      ],
      "metadata": {
        "id": "vUU9w4tqseBK"
      },
      "execution_count": null,
      "outputs": []
    },
    {
      "cell_type": "code",
      "source": [
        "# 모두 소문자로 바꾸기 위해 lower 사용\n",
        "# 중복된 단어는 한번만 세야하므로 set을 사용함\n",
        "len(set(song.lower().split(' ')))\n"
      ],
      "metadata": {
        "id": "XJwGhUklMG8Q",
        "colab": {
          "base_uri": "https://localhost:8080/"
        },
        "outputId": "4e0ea74a-c91b-41c5-cb6f-4d3474be98af"
      },
      "execution_count": null,
      "outputs": [
        {
          "output_type": "execute_result",
          "data": {
            "text/plain": [
              "21"
            ]
          },
          "metadata": {},
          "execution_count": 225
        }
      ]
    },
    {
      "cell_type": "markdown",
      "metadata": {
        "id": "yN0s3H2M0yZ2"
      },
      "source": [
        "## Dict"
      ]
    },
    {
      "cell_type": "code",
      "source": [
        "d = {'a':1, 'b':2, 'c':3}\n",
        "d"
      ],
      "metadata": {
        "id": "lwRkLskZMJFP",
        "colab": {
          "base_uri": "https://localhost:8080/"
        },
        "outputId": "1d152b43-a4b1-4a5b-b295-f0fe6f303c4a"
      },
      "execution_count": null,
      "outputs": [
        {
          "output_type": "execute_result",
          "data": {
            "text/plain": [
              "{'a': 1, 'b': 2, 'c': 3}"
            ]
          },
          "metadata": {},
          "execution_count": 226
        }
      ]
    },
    {
      "cell_type": "code",
      "source": [
        "d.keys()"
      ],
      "metadata": {
        "colab": {
          "base_uri": "https://localhost:8080/"
        },
        "id": "H71OpouZftsC",
        "outputId": "680e05ac-aa4e-475b-ab0d-839396a9a0b5"
      },
      "execution_count": null,
      "outputs": [
        {
          "output_type": "execute_result",
          "data": {
            "text/plain": [
              "dict_keys(['a', 'b', 'c'])"
            ]
          },
          "metadata": {},
          "execution_count": 227
        }
      ]
    },
    {
      "cell_type": "code",
      "source": [
        "d.values()"
      ],
      "metadata": {
        "colab": {
          "base_uri": "https://localhost:8080/"
        },
        "id": "G9Q4OWGGfuyW",
        "outputId": "60caeb90-16be-41e7-9213-c4ae453d186c"
      },
      "execution_count": null,
      "outputs": [
        {
          "output_type": "execute_result",
          "data": {
            "text/plain": [
              "dict_values([1, 2, 3])"
            ]
          },
          "metadata": {},
          "execution_count": 228
        }
      ]
    },
    {
      "cell_type": "code",
      "source": [
        "# index로 처리하고 싶을 때 유용\n",
        "d.items()"
      ],
      "metadata": {
        "colab": {
          "base_uri": "https://localhost:8080/"
        },
        "id": "OuDrtdWEfvaM",
        "outputId": "8849f290-20fe-49b8-f8ba-857d55af64b6"
      },
      "execution_count": null,
      "outputs": [
        {
          "output_type": "execute_result",
          "data": {
            "text/plain": [
              "dict_items([('a', 1), ('b', 2), ('c', 3)])"
            ]
          },
          "metadata": {},
          "execution_count": 229
        }
      ]
    },
    {
      "cell_type": "markdown",
      "metadata": {
        "id": "HMgOKh6izA_3"
      },
      "source": [
        "### 연습문제"
      ]
    },
    {
      "cell_type": "code",
      "metadata": {
        "colab": {
          "base_uri": "https://localhost:8080/"
        },
        "id": "XkfDXT18ytnA",
        "outputId": "08d4f75f-7573-4bb4-9a34-bf56ebb95e4f"
      },
      "source": [
        "dic = {'A':90, 'B':80, 'C':70}\n"
      ],
      "execution_count": null,
      "outputs": [
        {
          "output_type": "stream",
          "text": [
            "80\n",
            "{'A': 90, 'C': 70}\n"
          ],
          "name": "stdout"
        }
      ]
    },
    {
      "cell_type": "markdown",
      "metadata": {
        "id": "Reuh9MttzEkh"
      },
      "source": [
        "# 4.제어문 "
      ]
    },
    {
      "cell_type": "markdown",
      "metadata": {
        "id": "LVTNaYalzGg7"
      },
      "source": [
        "## if 문 "
      ]
    },
    {
      "cell_type": "code",
      "source": [
        "a = 10\n",
        "\n",
        "# 조건문에 괄호 써도 되지만 안쓰는걸 권장\n",
        "# indent를 얼마나 하는지는 상관 없지만 같은 레벨끼리는 똑같이 줘야 함\n",
        "if a > 5:\n",
        "    print(\"bigger\")\n",
        "    print(\"bigger2\")\n",
        "print(\"out of if\")"
      ],
      "metadata": {
        "id": "tspFmvZ-MM6X",
        "colab": {
          "base_uri": "https://localhost:8080/"
        },
        "outputId": "dcf24874-0e03-4d02-c596-4601678c31a3"
      },
      "execution_count": null,
      "outputs": [
        {
          "output_type": "stream",
          "name": "stdout",
          "text": [
            "bigger\n",
            "bigger2\n",
            "out of if\n"
          ]
        }
      ]
    },
    {
      "cell_type": "markdown",
      "metadata": {
        "id": "tUqxA52F7Ldc"
      },
      "source": [
        "### 연습문제 - 학점"
      ]
    },
    {
      "cell_type": "code",
      "metadata": {
        "colab": {
          "base_uri": "https://localhost:8080/"
        },
        "id": "-x_XOdW-7NPu",
        "outputId": "b065b73e-3083-4796-f7d0-4605158b1ed7"
      },
      "source": [
        "score = input(\"Insert your score:\")\n"
      ],
      "execution_count": null,
      "outputs": [
        {
          "output_type": "stream",
          "text": [
            "Insert your score:95\n",
            "Your credit is A\n"
          ],
          "name": "stdout"
        }
      ]
    },
    {
      "cell_type": "markdown",
      "source": [
        "### 3항 연산자"
      ],
      "metadata": {
        "id": "Yi0653tpMTPw"
      }
    },
    {
      "cell_type": "markdown",
      "source": [
        "* Java랑 문법 다름\n",
        "* else_if문도 가능하지만 가독성이 떨어지므로 사용 잘 안함"
      ],
      "metadata": {
        "id": "uYeYgaT_g8-7"
      }
    },
    {
      "cell_type": "code",
      "source": [
        "a = 10\n",
        "if a > 5:\n",
        "  b = 20\n",
        "else:\n",
        "  b = 30\n",
        "b"
      ],
      "metadata": {
        "id": "_LO0gufSMZEI",
        "colab": {
          "base_uri": "https://localhost:8080/"
        },
        "outputId": "082356eb-41ae-49ef-9888-73c4fafa4615"
      },
      "execution_count": null,
      "outputs": [
        {
          "output_type": "execute_result",
          "data": {
            "text/plain": [
              "20"
            ]
          },
          "metadata": {},
          "execution_count": 231
        }
      ]
    },
    {
      "cell_type": "code",
      "source": [
        "b = 20 if a > 5 else 30\n",
        "b"
      ],
      "metadata": {
        "colab": {
          "base_uri": "https://localhost:8080/"
        },
        "id": "aslL8nJuhGwL",
        "outputId": "e692f201-8ff5-41bb-ad7d-ff5dfe422ed6"
      },
      "execution_count": null,
      "outputs": [
        {
          "output_type": "execute_result",
          "data": {
            "text/plain": [
              "20"
            ]
          },
          "metadata": {},
          "execution_count": 232
        }
      ]
    },
    {
      "cell_type": "markdown",
      "metadata": {
        "id": "pIGBxuoY8eFe"
      },
      "source": [
        "## while"
      ]
    },
    {
      "cell_type": "code",
      "source": [
        "i = 0\n",
        "while i < 10:\n",
        "  print(i)\n",
        "  i += 1"
      ],
      "metadata": {
        "id": "lrXuVeMIMbNo",
        "colab": {
          "base_uri": "https://localhost:8080/"
        },
        "outputId": "2d5d7f9e-81ca-4f74-fc39-883c2167ad28"
      },
      "execution_count": null,
      "outputs": [
        {
          "output_type": "stream",
          "name": "stdout",
          "text": [
            "0\n",
            "1\n",
            "2\n",
            "3\n",
            "4\n",
            "5\n",
            "6\n",
            "7\n",
            "8\n",
            "9\n"
          ]
        }
      ]
    },
    {
      "cell_type": "markdown",
      "metadata": {
        "id": "fslShgFq9TaL"
      },
      "source": [
        "### 연습문제 - 별찍기"
      ]
    },
    {
      "cell_type": "code",
      "source": [],
      "metadata": {
        "id": "6DHEzXTEMcin"
      },
      "execution_count": null,
      "outputs": []
    },
    {
      "cell_type": "markdown",
      "metadata": {
        "id": "8TpCw2jFvFAu"
      },
      "source": [
        "## 연습문제 - 로또"
      ]
    },
    {
      "cell_type": "code",
      "metadata": {
        "colab": {
          "base_uri": "https://localhost:8080/"
        },
        "id": "yrP_cDvKkq-Z",
        "outputId": "008533f6-4346-455a-f3d4-439f9d71a74d"
      },
      "source": [
        "import random\n",
        "\n"
      ],
      "execution_count": null,
      "outputs": [
        {
          "output_type": "stream",
          "name": "stdout",
          "text": [
            "{5, 10, 42, 43, 45, 19}\n"
          ]
        }
      ]
    },
    {
      "cell_type": "markdown",
      "metadata": {
        "id": "BebcXq-P-G2S"
      },
      "source": [
        "## for문 "
      ]
    },
    {
      "cell_type": "code",
      "metadata": {
        "colab": {
          "base_uri": "https://localhost:8080/"
        },
        "id": "eXAPLwK0-KLX",
        "outputId": "521c5761-b0ec-4110-f401-4fe0c66ee0d1"
      },
      "source": [
        "animals = ['ant', 'bee', 'cat', 'dog', 'fox']\n",
        "\n",
        "# index로는 컨트롤 못함\n",
        "for animal in animals:\n",
        "  print(animal)"
      ],
      "execution_count": null,
      "outputs": [
        {
          "output_type": "stream",
          "name": "stdout",
          "text": [
            "ant\n",
            "bee\n",
            "cat\n",
            "dog\n",
            "fox\n"
          ]
        }
      ]
    },
    {
      "cell_type": "code",
      "source": [
        "# index 사용 가능한 방법\n",
        "for idx in range(5): \n",
        "  print(idx, animals[idx])"
      ],
      "metadata": {
        "id": "QXlCQFfZMkwo",
        "colab": {
          "base_uri": "https://localhost:8080/"
        },
        "outputId": "bd5b646f-985d-4ecc-ff57-aae6c19db1cf"
      },
      "execution_count": null,
      "outputs": [
        {
          "output_type": "stream",
          "name": "stdout",
          "text": [
            "0 ant\n",
            "1 bee\n",
            "2 cat\n",
            "3 dog\n",
            "4 fox\n"
          ]
        }
      ]
    },
    {
      "cell_type": "markdown",
      "source": [
        "⚽⚽⚽\\\n"
      ],
      "metadata": {
        "id": "um2W7BzH48VM"
      }
    },
    {
      "cell_type": "code",
      "source": [
        "# enumerate.. range 함수 사용 안해도 index 사용 가능\n",
        "\n",
        "list(enumerate(['a','b','c','d']))\n",
        "\n",
        "# index 0부터 시작하는게 싫으면 바꿀 수 있음\n",
        "# list(enumerate(['a','b','c','d'], start=1))"
      ],
      "metadata": {
        "colab": {
          "base_uri": "https://localhost:8080/"
        },
        "id": "A2OPbL8Mj_UG",
        "outputId": "0471664a-186f-46e1-9cfc-52273c2b6389"
      },
      "execution_count": null,
      "outputs": [
        {
          "output_type": "execute_result",
          "data": {
            "text/plain": [
              "[(1, 'a'), (2, 'b'), (3, 'c'), (4, 'd')]"
            ]
          },
          "metadata": {},
          "execution_count": 239
        }
      ]
    },
    {
      "cell_type": "code",
      "source": [
        "for idx, animal in enumerate(animals):\n",
        "  print(idx, animal)"
      ],
      "metadata": {
        "colab": {
          "base_uri": "https://localhost:8080/"
        },
        "id": "w0-tcNB5kY2K",
        "outputId": "e498b876-a55e-4224-a6e7-dccbc57238bd"
      },
      "execution_count": null,
      "outputs": [
        {
          "output_type": "stream",
          "name": "stdout",
          "text": [
            "0 ant\n",
            "1 bee\n",
            "2 cat\n",
            "3 dog\n",
            "4 fox\n"
          ]
        }
      ]
    },
    {
      "cell_type": "markdown",
      "metadata": {
        "id": "lGs9CeWP-buD"
      },
      "source": [
        "### 연습문제"
      ]
    },
    {
      "cell_type": "code",
      "source": [
        "# 1~100 합 출력..range() 이용\n",
        "\n",
        "sum = 0\n",
        "for num in range(1, 101):\n",
        "  sum += num\n",
        "\n",
        "print(sum)"
      ],
      "metadata": {
        "colab": {
          "base_uri": "https://localhost:8080/"
        },
        "id": "S5Ef-rCvk-Vf",
        "outputId": "d38b9245-c4b8-4ac2-ec3e-4dfc33167ad7"
      },
      "execution_count": null,
      "outputs": [
        {
          "output_type": "stream",
          "name": "stdout",
          "text": [
            "5050\n"
          ]
        }
      ]
    },
    {
      "cell_type": "code",
      "metadata": {
        "colab": {
          "base_uri": "https://localhost:8080/"
        },
        "id": "L_Vk60kZ-atc",
        "outputId": "37af2250-7f81-4aae-e75f-fd9e6037d9ab"
      },
      "source": [
        "# enumerate, formatting, 삼항연산자\n",
        "scores = [90,35,68,44,81]\n",
        "\n",
        "# for idx, score in enumerate(scores, start=1):\n",
        "#   print(f\"{idx}번 학생은\", end=\" \")\n",
        "#   print(\"합격\", end=\"\") if score>=60 else print(\"불합격\", end=\"\")\n",
        "#   print(\"입니다.\")\n",
        "\n",
        "#--------------------------------------------------#\n",
        "# for idx, score in enumerate(scores, start=1):\n",
        "#   if score >= 60:\n",
        "#     res = \"합격\"\n",
        "#   else:\n",
        "#     res = \"불합격\"\n",
        "#   print(f\"{idx}번 학생은 {res}입니다.\")\n",
        "\n",
        "#--------------------------------------------------#\n",
        "for idx, score in enumerate(scores, start=1):\n",
        "  res = \"합격\" if score>=60 else \"불합격\"\n",
        "  print(f\"{idx}번 학생은 {res}입니다.\")"
      ],
      "execution_count": null,
      "outputs": [
        {
          "output_type": "stream",
          "name": "stdout",
          "text": [
            "1번 학생은 합격입니다.\n",
            "2번 학생은 불합격입니다.\n",
            "3번 학생은 합격입니다.\n",
            "4번 학생은 불합격입니다.\n",
            "5번 학생은 합격입니다.\n"
          ]
        }
      ]
    },
    {
      "cell_type": "markdown",
      "metadata": {
        "id": "yPbv9su1E8OM"
      },
      "source": [
        "### 연습문제-구구단"
      ]
    },
    {
      "cell_type": "code",
      "source": [],
      "metadata": {
        "id": "WHSXk2lVMpLn"
      },
      "execution_count": null,
      "outputs": []
    },
    {
      "cell_type": "markdown",
      "metadata": {
        "id": "bCkOOSDaE_pU"
      },
      "source": [
        "### break, continue"
      ]
    },
    {
      "cell_type": "code",
      "source": [],
      "metadata": {
        "id": "gGNdIzzUMqSe"
      },
      "execution_count": null,
      "outputs": []
    },
    {
      "cell_type": "markdown",
      "metadata": {
        "id": "fv-S-iglFC9d"
      },
      "source": [
        "### 연습문제- Number guess"
      ]
    },
    {
      "cell_type": "code",
      "metadata": {
        "colab": {
          "base_uri": "https://localhost:8080/"
        },
        "id": "JvCKu8s7FF8d",
        "outputId": "20928c71-ab69-417b-a3b1-2782e8a6b0e6"
      },
      "source": [
        "import random\n",
        "number = random.randint(1, 100)\n",
        "print('Guess the number(1~100) in 10 times.')\n",
        "print(\"number: \", number)\n",
        "\n",
        "for idx in range(10):\n",
        "  val = int(input(f\"Insert number you guess({idx+1}): \"))\n",
        "  if(val == number):\n",
        "    print('Correct answer!')\n",
        "    break\n",
        "\n",
        "  if idx == 9:\n",
        "    print('You fail')\n",
        "    continue\n",
        "\n",
        "  if(val < number):\n",
        "    print('Higher')\n",
        "  else:\n",
        "    print('Lower')"
      ],
      "execution_count": null,
      "outputs": [
        {
          "output_type": "stream",
          "name": "stdout",
          "text": [
            "Guess the number(1~100) in 10 times.\n",
            "number:  26\n",
            "Insert number you guess(1): 1\n",
            "Higher\n",
            "Insert number you guess(2): 2\n",
            "Higher\n",
            "Insert number you guess(3): 3\n",
            "Higher\n",
            "Insert number you guess(4): 4\n",
            "Higher\n",
            "Insert number you guess(5): 5\n",
            "Higher\n",
            "Insert number you guess(6): 6\n",
            "Higher\n",
            "Insert number you guess(7): 7\n",
            "Higher\n",
            "Insert number you guess(8): 8\n",
            "Higher\n",
            "Insert number you guess(9): 9\n",
            "Higher\n",
            "Insert number you guess(10): 10\n",
            "You fail\n"
          ]
        }
      ]
    },
    {
      "cell_type": "markdown",
      "metadata": {
        "id": "tgKEezmXG5qS"
      },
      "source": [
        "### comprehension(내포)"
      ]
    },
    {
      "cell_type": "code",
      "source": [
        "a = [0, 1, 2, 3 ,4, 5, 6, 7, 8, 9]\n",
        "a"
      ],
      "metadata": {
        "id": "nbjDVhMDMuiW",
        "colab": {
          "base_uri": "https://localhost:8080/"
        },
        "outputId": "13d5fefb-7510-49b8-e494-cca38ec94348"
      },
      "execution_count": null,
      "outputs": [
        {
          "output_type": "execute_result",
          "data": {
            "text/plain": [
              "[0, 1, 2, 3, 4, 5, 6, 7, 8, 9]"
            ]
          },
          "metadata": {},
          "execution_count": 276
        }
      ]
    },
    {
      "cell_type": "code",
      "source": [
        "for i in range(10):\n",
        "  print(i)"
      ],
      "metadata": {
        "colab": {
          "base_uri": "https://localhost:8080/"
        },
        "id": "4g2VCxtot2-T",
        "outputId": "fb7293d3-7ca2-4a84-f74c-0f84e6983e6e"
      },
      "execution_count": null,
      "outputs": [
        {
          "output_type": "stream",
          "name": "stdout",
          "text": [
            "0\n",
            "1\n",
            "2\n",
            "3\n",
            "4\n",
            "5\n",
            "6\n",
            "7\n",
            "8\n",
            "9\n"
          ]
        }
      ]
    },
    {
      "cell_type": "markdown",
      "source": [
        "⚽⚽⚽\\\n",
        "for 왼쪽에는 원하는 패턴(수식)을, 오른쪽에는 조건을 줄 수 있다."
      ],
      "metadata": {
        "id": "vO5bxBVg8-Am"
      }
    },
    {
      "cell_type": "code",
      "source": [
        "# comprehension\n",
        "\n",
        "[ i for i in range(10) ]"
      ],
      "metadata": {
        "colab": {
          "base_uri": "https://localhost:8080/"
        },
        "id": "hV1xNT1KuBhk",
        "outputId": "1e2754d9-1eb2-4e1e-c262-59763a096b74"
      },
      "execution_count": null,
      "outputs": [
        {
          "output_type": "execute_result",
          "data": {
            "text/plain": [
              "[0, 1, 2, 3, 4, 5, 6, 7, 8, 9]"
            ]
          },
          "metadata": {},
          "execution_count": 280
        }
      ]
    },
    {
      "cell_type": "code",
      "source": [
        "# 복잡한 제약이 있는 경우 사용하기 어려움 \n",
        "list(range(0, 10, 2))"
      ],
      "metadata": {
        "colab": {
          "base_uri": "https://localhost:8080/"
        },
        "id": "vmYpnBK9uWRq",
        "outputId": "c2f3ad74-53ba-45c3-8a85-c19612919508"
      },
      "execution_count": null,
      "outputs": [
        {
          "output_type": "execute_result",
          "data": {
            "text/plain": [
              "[0, 2, 4, 6, 8]"
            ]
          },
          "metadata": {},
          "execution_count": 282
        }
      ]
    },
    {
      "cell_type": "code",
      "source": [
        "# 복잡한 수식을 사용해야 할 경우 comprehension가 유용함\n",
        "[ i**2 for i in range(10) ]"
      ],
      "metadata": {
        "colab": {
          "base_uri": "https://localhost:8080/"
        },
        "id": "fQUvQAVYuYf-",
        "outputId": "74748be8-4766-47ba-f61b-aea65298a421"
      },
      "execution_count": null,
      "outputs": [
        {
          "output_type": "execute_result",
          "data": {
            "text/plain": [
              "[0, 1, 4, 9, 16, 25, 36, 49, 64, 81]"
            ]
          },
          "metadata": {},
          "execution_count": 284
        }
      ]
    },
    {
      "cell_type": "code",
      "source": [
        "[i for i in range(10) if i%2!=0]"
      ],
      "metadata": {
        "colab": {
          "base_uri": "https://localhost:8080/"
        },
        "id": "w8birNI-vAwv",
        "outputId": "861c53f5-cdd4-44c2-db63-b0b70704bca8"
      },
      "execution_count": null,
      "outputs": [
        {
          "output_type": "execute_result",
          "data": {
            "text/plain": [
              "[1, 3, 5, 7, 9]"
            ]
          },
          "metadata": {},
          "execution_count": 285
        }
      ]
    },
    {
      "cell_type": "code",
      "source": [
        "# 집합으로 만드려면 [] 대신 {} 사용하면 됨\n",
        "{ i**2 for i in range(10) }"
      ],
      "metadata": {
        "colab": {
          "base_uri": "https://localhost:8080/"
        },
        "id": "CMEnOBF4vJI1",
        "outputId": "1b7ffef6-e23f-4a71-ab43-b9c06036da20"
      },
      "execution_count": null,
      "outputs": [
        {
          "output_type": "execute_result",
          "data": {
            "text/plain": [
              "{0, 1, 4, 9, 16, 25, 36, 49, 64, 81}"
            ]
          },
          "metadata": {},
          "execution_count": 287
        }
      ]
    },
    {
      "cell_type": "code",
      "source": [
        "# tuple로 만들기\n",
        "v = tuple([ 2**x for x in range(13) ])\n",
        "v"
      ],
      "metadata": {
        "colab": {
          "base_uri": "https://localhost:8080/"
        },
        "id": "6LuWX8hLvl2p",
        "outputId": "bc3d3299-bacc-4c9b-d847-b491c50761c5"
      },
      "execution_count": null,
      "outputs": [
        {
          "output_type": "execute_result",
          "data": {
            "text/plain": [
              "(1, 2, 4, 8, 16, 32, 64, 128, 256, 512, 1024, 2048, 4096)"
            ]
          },
          "metadata": {},
          "execution_count": 288
        }
      ]
    },
    {
      "cell_type": "code",
      "source": [
        "# dictionary로 만들기(key:value 짝을 만들어줘야 함)\n",
        "{ i:i**2 for i in range(10) }"
      ],
      "metadata": {
        "colab": {
          "base_uri": "https://localhost:8080/"
        },
        "id": "61Eu2Po0v4Hk",
        "outputId": "2f9bcd25-61bc-46cb-87b2-a11c39b681fb"
      },
      "execution_count": null,
      "outputs": [
        {
          "output_type": "execute_result",
          "data": {
            "text/plain": [
              "{0: 0, 1: 1, 2: 4, 3: 9, 4: 16, 5: 25, 6: 36, 7: 49, 8: 64, 9: 81}"
            ]
          },
          "metadata": {},
          "execution_count": 289
        }
      ]
    },
    {
      "cell_type": "code",
      "source": [
        "d = {'a':10, 'b':20, 'c':30}\n",
        "{k:v for k, v in d.items()}\n",
        "{v:k for k, v in d.items()}"
      ],
      "metadata": {
        "colab": {
          "base_uri": "https://localhost:8080/"
        },
        "id": "6OltUwJIwOT9",
        "outputId": "0ea29936-28dd-44a5-86c4-e0479af8f230"
      },
      "execution_count": null,
      "outputs": [
        {
          "output_type": "execute_result",
          "data": {
            "text/plain": [
              "{10: 'a', 20: 'b', 30: 'c'}"
            ]
          },
          "metadata": {},
          "execution_count": 294
        }
      ]
    },
    {
      "cell_type": "markdown",
      "metadata": {
        "id": "lESxiMcdHtLk"
      },
      "source": [
        "# 5.함수"
      ]
    },
    {
      "cell_type": "markdown",
      "metadata": {
        "id": "6rR024y1ij84"
      },
      "source": [
        "### Function mapping, Macro"
      ]
    },
    {
      "cell_type": "code",
      "source": [
        "# return type 대신 def를 사용하고, 인자 type 필요 없음\n",
        "\n",
        "def greeting(name):\n",
        "  print(f\"안녕하세요? {name}님\")\n",
        "  print(f\"Hello, Mr(s){name}\")"
      ],
      "metadata": {
        "id": "nhqNqw-nMw__"
      },
      "execution_count": null,
      "outputs": []
    },
    {
      "cell_type": "code",
      "source": [
        "greeting(\"Lee\")"
      ],
      "metadata": {
        "colab": {
          "base_uri": "https://localhost:8080/"
        },
        "id": "ewW6yDbdxWK3",
        "outputId": "e2e00b45-1c17-4d6a-b661-3992a7982a6c"
      },
      "execution_count": null,
      "outputs": [
        {
          "output_type": "stream",
          "name": "stdout",
          "text": [
            "안녕하세요? Lee님\n",
            "Hello, Mr(s)Lee\n"
          ]
        }
      ]
    },
    {
      "cell_type": "code",
      "source": [
        "# 인자 타입 지정을 따로 안하므로 다양한 타입의 인자 사용 가능\n",
        "# 매개변수의 순서와 개수는 일치해야 함 -> 순서 틀리면 결과 오류, 개수 틀리면 실행 오류\n",
        "def plus(i, j):\n",
        "  return i + j"
      ],
      "metadata": {
        "id": "ZE3xBc3bxY9k"
      },
      "execution_count": null,
      "outputs": []
    },
    {
      "cell_type": "code",
      "source": [
        "plus(10, 20)"
      ],
      "metadata": {
        "colab": {
          "base_uri": "https://localhost:8080/"
        },
        "id": "dcEDiaVUxdyX",
        "outputId": "6ee22239-0f5e-4cce-b7df-85772933b1c2"
      },
      "execution_count": null,
      "outputs": [
        {
          "output_type": "execute_result",
          "data": {
            "text/plain": [
              "30"
            ]
          },
          "metadata": {},
          "execution_count": 299
        }
      ]
    },
    {
      "cell_type": "code",
      "source": [
        "plus(1.23, 4.5)"
      ],
      "metadata": {
        "colab": {
          "base_uri": "https://localhost:8080/"
        },
        "id": "qxVj3wFtxoWQ",
        "outputId": "beb58022-25fd-4187-9532-16c613d547eb"
      },
      "execution_count": null,
      "outputs": [
        {
          "output_type": "execute_result",
          "data": {
            "text/plain": [
              "5.73"
            ]
          },
          "metadata": {},
          "execution_count": 300
        }
      ]
    },
    {
      "cell_type": "code",
      "source": [
        "plus(\"hello\", \"world\")"
      ],
      "metadata": {
        "colab": {
          "base_uri": "https://localhost:8080/",
          "height": 35
        },
        "id": "CQUWrGa9xqKD",
        "outputId": "7b28e964-4dd0-4772-db8d-7452cc7b4438"
      },
      "execution_count": null,
      "outputs": [
        {
          "output_type": "execute_result",
          "data": {
            "text/plain": [
              "'helloworld'"
            ],
            "application/vnd.google.colaboratory.intrinsic+json": {
              "type": "string"
            }
          },
          "metadata": {},
          "execution_count": 301
        }
      ]
    },
    {
      "cell_type": "markdown",
      "metadata": {
        "id": "zUEwU9zKivLc"
      },
      "source": [
        "### define and caller"
      ]
    },
    {
      "cell_type": "code",
      "source": [
        "def printInfo(name, age):\n",
        "  print(f'My name is {name} and I am {age} years old.')"
      ],
      "metadata": {
        "id": "94PwAe_UMxz2"
      },
      "execution_count": null,
      "outputs": []
    },
    {
      "cell_type": "code",
      "source": [
        "printInfo('Lee', 27)"
      ],
      "metadata": {
        "colab": {
          "base_uri": "https://localhost:8080/"
        },
        "id": "QZ95z-XmyQe6",
        "outputId": "5bd5bce3-64ad-4041-dd3c-6827086b2876"
      },
      "execution_count": null,
      "outputs": [
        {
          "output_type": "stream",
          "name": "stdout",
          "text": [
            "My name is Lee and I am 27 years old.\n"
          ]
        }
      ]
    },
    {
      "cell_type": "code",
      "source": [
        "# 결과 오류. 실행은 되지만 원하던 결과 아님\n",
        "printInfo(27, 'Lee')"
      ],
      "metadata": {
        "colab": {
          "base_uri": "https://localhost:8080/"
        },
        "id": "CfES5S_OySC5",
        "outputId": "8a88c276-7e94-4f45-8b1c-b1325cd5bf87"
      },
      "execution_count": null,
      "outputs": [
        {
          "output_type": "stream",
          "name": "stdout",
          "text": [
            "My name is 27 and I am Lee years old.\n"
          ]
        }
      ]
    },
    {
      "cell_type": "markdown",
      "source": [
        "⚽⚽⚽\\\n",
        "position argument & keyword argument"
      ],
      "metadata": {
        "id": "Ciu4yELe_Cjw"
      }
    },
    {
      "cell_type": "code",
      "source": [
        "# 키워드 매개변수 방식. \n",
        "\n",
        "# 함수 선언부의 변화는 없고 호출부만 변화함\n",
        "printInfo(name='Lee', age=27)\n",
        "printInfo(age=27, name='Lee')\n",
        "\n",
        "# 위치 매개변수(positional argument) + 키워드 매개변수(keyword argument)\n",
        "# 혼용 가능하지만 위치 매개변수를 앞에 사용하고 뒤에 키워드 매개변수를 사용해야 함\n",
        "printInfo('Lee', age=27)\n",
        "\n",
        "# 문법오류. 실행 자체가 안됨\n",
        "# 에러 : positional argument는 keyword argument를 따를 수 없음\n",
        "# printInfo(age=27, 'Lee')\n",
        "# printInfo(name='Lee', 27)"
      ],
      "metadata": {
        "colab": {
          "base_uri": "https://localhost:8080/"
        },
        "id": "wfq7W-msyXN_",
        "outputId": "fae42ed5-8dd4-4abc-f699-c67b6cc27221"
      },
      "execution_count": null,
      "outputs": [
        {
          "output_type": "stream",
          "name": "stdout",
          "text": [
            "My name is Lee and I am 27 years old.\n",
            "My name is Lee and I am 27 years old.\n",
            "My name is Lee and I am 27 years old.\n"
          ]
        }
      ]
    },
    {
      "cell_type": "code",
      "source": [
        "# 인자 개수가 맞지 않는 경우 1\n",
        "printInfo('Lee', 27, 'Busan')"
      ],
      "metadata": {
        "id": "zhH8mNLQ0Tym"
      },
      "execution_count": null,
      "outputs": []
    },
    {
      "cell_type": "code",
      "source": [
        "# 인자 개수가 맞지 않는 경우 2\n",
        "printInfo('Lee')"
      ],
      "metadata": {
        "id": "GIu6DVLn0Y04"
      },
      "execution_count": null,
      "outputs": []
    },
    {
      "cell_type": "markdown",
      "metadata": {
        "id": "78DHVjfxiygc"
      },
      "source": [
        "### Argument types"
      ]
    },
    {
      "cell_type": "code",
      "source": [
        "# default 매개변수\n",
        "# c에 값이 들어오지 않으면 0으로 취급\n",
        "def add(a, b, c=0):\n",
        "  return a + b + c"
      ],
      "metadata": {
        "id": "-z5sdzHgM1S4"
      },
      "execution_count": null,
      "outputs": []
    },
    {
      "cell_type": "code",
      "source": [
        "add(1, 2)"
      ],
      "metadata": {
        "colab": {
          "base_uri": "https://localhost:8080/"
        },
        "id": "njuzHeSq01aK",
        "outputId": "2f2a90fd-f5ad-4f8b-aea6-8117c4ca9dd0"
      },
      "execution_count": null,
      "outputs": [
        {
          "output_type": "execute_result",
          "data": {
            "text/plain": [
              "3"
            ]
          },
          "metadata": {},
          "execution_count": 319
        }
      ]
    },
    {
      "cell_type": "code",
      "source": [
        "add(1, 2, 3)"
      ],
      "metadata": {
        "colab": {
          "base_uri": "https://localhost:8080/"
        },
        "id": "uqoQ8k5p02dJ",
        "outputId": "f925c718-3ee0-49dc-8324-75b6169a2044"
      },
      "execution_count": null,
      "outputs": [
        {
          "output_type": "execute_result",
          "data": {
            "text/plain": [
              "6"
            ]
          },
          "metadata": {},
          "execution_count": 320
        }
      ]
    },
    {
      "cell_type": "code",
      "source": [
        "add(c=30, b=20, a=10)"
      ],
      "metadata": {
        "colab": {
          "base_uri": "https://localhost:8080/"
        },
        "id": "7JGq-VKw03ov",
        "outputId": "7786ee9e-247e-4ea4-d1e4-336c5aae54bd"
      },
      "execution_count": null,
      "outputs": [
        {
          "output_type": "execute_result",
          "data": {
            "text/plain": [
              "60"
            ]
          },
          "metadata": {},
          "execution_count": 322
        }
      ]
    },
    {
      "cell_type": "code",
      "source": [
        "add(1, 2, 3, 4)"
      ],
      "metadata": {
        "colab": {
          "base_uri": "https://localhost:8080/",
          "height": 172
        },
        "id": "hIjtCaPM1YgW",
        "outputId": "4590648b-5dac-412d-a515-158117b1c4f9"
      },
      "execution_count": null,
      "outputs": [
        {
          "output_type": "error",
          "ename": "TypeError",
          "evalue": "ignored",
          "traceback": [
            "\u001b[0;31m---------------------------------------------------------------------------\u001b[0m",
            "\u001b[0;31mTypeError\u001b[0m                                 Traceback (most recent call last)",
            "\u001b[0;32m<ipython-input-323-66fdd6e169e2>\u001b[0m in \u001b[0;36m<module>\u001b[0;34m\u001b[0m\n\u001b[0;32m----> 1\u001b[0;31m \u001b[0madd\u001b[0m\u001b[0;34m(\u001b[0m\u001b[0;36m1\u001b[0m\u001b[0;34m,\u001b[0m \u001b[0;36m2\u001b[0m\u001b[0;34m,\u001b[0m \u001b[0;36m3\u001b[0m\u001b[0;34m,\u001b[0m \u001b[0;36m4\u001b[0m\u001b[0;34m)\u001b[0m\u001b[0;34m\u001b[0m\u001b[0;34m\u001b[0m\u001b[0m\n\u001b[0m",
            "\u001b[0;31mTypeError\u001b[0m: add() takes from 2 to 3 positional arguments but 4 were given"
          ]
        }
      ]
    },
    {
      "cell_type": "markdown",
      "source": [
        "⚽⚽⚽\\\n",
        "가변 매개변수"
      ],
      "metadata": {
        "id": "zwQP1Pm9_Ra5"
      }
    },
    {
      "cell_type": "code",
      "source": [
        "# 가변 매개변수\n",
        "# 매개변수가 tuple 형식으로 들어감\n",
        "# 정의할 때 *을 사용\n",
        "def add2(*args):\n",
        "  print(args)"
      ],
      "metadata": {
        "id": "nLlDEumc1nzl"
      },
      "execution_count": null,
      "outputs": []
    },
    {
      "cell_type": "code",
      "source": [
        "add2(1)\n",
        "add2(1, 2)\n",
        "add2(1, 2, 3, 4, 5, 6, 7, 8, 9)\n",
        "add2()"
      ],
      "metadata": {
        "colab": {
          "base_uri": "https://localhost:8080/"
        },
        "id": "qznLSlEr1sWz",
        "outputId": "3d56596b-bc0c-4197-cd5b-5109d2844812"
      },
      "execution_count": null,
      "outputs": [
        {
          "output_type": "stream",
          "name": "stdout",
          "text": [
            "(1,)\n",
            "(1, 2)\n",
            "(1, 2, 3, 4, 5, 6, 7, 8, 9)\n",
            "()\n"
          ]
        }
      ]
    },
    {
      "cell_type": "code",
      "source": [
        "def fn(a, b, c):\n",
        "  print(a, b, c)"
      ],
      "metadata": {
        "id": "7xgtaQFT2T7W"
      },
      "execution_count": null,
      "outputs": []
    },
    {
      "cell_type": "code",
      "source": [
        "i = [10, 20, 30]\n",
        "fn(i[0], i[1], i[2])"
      ],
      "metadata": {
        "colab": {
          "base_uri": "https://localhost:8080/"
        },
        "id": "ynfLAGxg2WyS",
        "outputId": "1b99ba0b-91ad-4a74-8423-8919481d02b5"
      },
      "execution_count": null,
      "outputs": [
        {
          "output_type": "stream",
          "name": "stdout",
          "text": [
            "10 20 30\n"
          ]
        }
      ]
    },
    {
      "cell_type": "code",
      "source": [
        "# 인자가 3개 들어가야 하는데, 표면적으로는 i 하나만 들어가므로 에러\n",
        "# fn(i)\n",
        "\n",
        "# 호출할 때 *을 사용\n",
        "# i 내부를 펼쳐서 보냄\n",
        "fn(*i)"
      ],
      "metadata": {
        "colab": {
          "base_uri": "https://localhost:8080/"
        },
        "id": "Owv3UcCO2hlj",
        "outputId": "7a2cf652-f9f0-4729-c00d-cee31e30b874"
      },
      "execution_count": null,
      "outputs": [
        {
          "output_type": "stream",
          "name": "stdout",
          "text": [
            "10 20 30\n"
          ]
        }
      ]
    },
    {
      "cell_type": "markdown",
      "metadata": {
        "id": "5rR71sMxdomY"
      },
      "source": [
        "### 연습문제-계산기"
      ]
    },
    {
      "cell_type": "code",
      "metadata": {
        "id": "1toThgbveBPz"
      },
      "source": [],
      "execution_count": null,
      "outputs": []
    },
    {
      "cell_type": "code",
      "metadata": {
        "colab": {
          "base_uri": "https://localhost:8080/"
        },
        "id": "CSZHLMYwd8zO",
        "outputId": "4526bf6e-51a2-4dd9-84a2-bcced60e252e"
      },
      "source": [
        "operators = {'+' : plus, '-':minus, '*':multiply, '/':divide}\n",
        "print( \"Calculator is ready.('q' to quit)\" )\n",
        "while True:\n",
        "    isDone = False\n",
        "    line = input(\"> \")\n",
        "    line.strip()\n",
        "    if 'q' in line :\n",
        "        break\n",
        "    for op in operators.keys():\n",
        "        op_idx = line.find(op)\n",
        "        if op_idx > 0 and op_idx < len(line)-1:\n",
        "            fn = operators[op]\n",
        "            a = str2num(line[:op_idx])\n",
        "            b = str2num(line[op_idx+1:])\n",
        "            print( line , '=', fn(a,b) )\n",
        "            isDone = True\n",
        "            break\n",
        "    if not isDone :\n",
        "        print( 'Invalid expression, Try again.' )\n"
      ],
      "execution_count": null,
      "outputs": [
        {
          "output_type": "stream",
          "text": [
            "Calculator is ready.('q' to quit)\n",
            "> 1 + 2\n",
            "1 + 2 = 3\n",
            "> 3-2\n",
            "3-2 = 1\n",
            "> 2*3\n",
            "2*3 = 6\n",
            "> 4/2\n",
            "4/2 = 2.0\n",
            "> q\n"
          ],
          "name": "stdout"
        }
      ]
    },
    {
      "cell_type": "code",
      "source": [
        "# 변수에 함수를 할당할 수 있음\n",
        "def fn2():\n",
        "  print(\"fn2\")"
      ],
      "metadata": {
        "id": "CS9Q2-zU3K1Q"
      },
      "execution_count": null,
      "outputs": []
    },
    {
      "cell_type": "code",
      "source": [
        "fn2()\n",
        "\n",
        "fn2\n",
        "\n",
        "my = fn2"
      ],
      "metadata": {
        "colab": {
          "base_uri": "https://localhost:8080/"
        },
        "id": "JCkFcK3i3O8S",
        "outputId": "6001d4cf-ecf7-488c-ec05-8001238cc3ed"
      },
      "execution_count": null,
      "outputs": [
        {
          "output_type": "stream",
          "name": "stdout",
          "text": [
            "fn2\n",
            "<function fn2 at 0x7f9df773c3b0>\n"
          ]
        }
      ]
    },
    {
      "cell_type": "code",
      "source": [
        "my == fn2, my is fn2"
      ],
      "metadata": {
        "colab": {
          "base_uri": "https://localhost:8080/"
        },
        "id": "DEPgceUR3mWd",
        "outputId": "fdcefeaa-52dd-4796-b516-0f5cac75ae25"
      },
      "execution_count": null,
      "outputs": [
        {
          "output_type": "execute_result",
          "data": {
            "text/plain": [
              "(True, True)"
            ]
          },
          "metadata": {},
          "execution_count": 335
        }
      ]
    },
    {
      "cell_type": "code",
      "source": [
        "my()"
      ],
      "metadata": {
        "colab": {
          "base_uri": "https://localhost:8080/"
        },
        "id": "UJmxT-eU3pCv",
        "outputId": "2eb31a25-3b26-4958-cf7f-4b8654f1baac"
      },
      "execution_count": null,
      "outputs": [
        {
          "output_type": "stream",
          "name": "stdout",
          "text": [
            "fn2\n"
          ]
        }
      ]
    },
    {
      "cell_type": "code",
      "source": [
        "def fn3(f):\n",
        "  f()"
      ],
      "metadata": {
        "id": "_lj2ABCF3pl-"
      },
      "execution_count": null,
      "outputs": []
    },
    {
      "cell_type": "code",
      "source": [
        "fn3(my)"
      ],
      "metadata": {
        "colab": {
          "base_uri": "https://localhost:8080/"
        },
        "id": "c_3xAaF53vZm",
        "outputId": "5f94af68-1098-4f84-e6a7-97799c26471c"
      },
      "execution_count": null,
      "outputs": [
        {
          "output_type": "stream",
          "name": "stdout",
          "text": [
            "fn2\n"
          ]
        }
      ]
    },
    {
      "cell_type": "code",
      "source": [],
      "metadata": {
        "id": "Gh-NHfHb3v5C"
      },
      "execution_count": null,
      "outputs": []
    },
    {
      "cell_type": "markdown",
      "metadata": {
        "id": "aPfBWW3PifbV"
      },
      "source": [
        "### doc string"
      ]
    },
    {
      "cell_type": "code",
      "metadata": {
        "id": "bpljh9xqepAP"
      },
      "source": [
        "def plus(a, b):\n",
        "  '''\n",
        "  두 변수의 덧셈 결과를 반환\n",
        "  매개변수 : a, b\n",
        "  반환 값  : a + b\n",
        "  '''\n",
        "  return a + b"
      ],
      "execution_count": null,
      "outputs": []
    },
    {
      "cell_type": "code",
      "metadata": {
        "id": "qOYnqfQGe7de"
      },
      "source": [
        "plus?"
      ],
      "execution_count": null,
      "outputs": []
    },
    {
      "cell_type": "code",
      "metadata": {
        "colab": {
          "base_uri": "https://localhost:8080/"
        },
        "id": "R3BBYKF6fN1h",
        "outputId": "0450df3f-2122-493c-c794-4460d32dd9ca"
      },
      "source": [
        "print(plus.__doc__)"
      ],
      "execution_count": null,
      "outputs": [
        {
          "output_type": "stream",
          "text": [
            "\n",
            "  두 변수의 덧셈 결과를 반환\n",
            "  매개변수 : a, b\n",
            "  반환 값  : a + b\n",
            "  \n"
          ],
          "name": "stdout"
        }
      ]
    },
    {
      "cell_type": "markdown",
      "metadata": {
        "id": "ldcewZ_5iYF8"
      },
      "source": [
        "### Name Space"
      ]
    },
    {
      "cell_type": "code",
      "metadata": {
        "colab": {
          "base_uri": "https://localhost:8080/"
        },
        "id": "nwUMPbyggUnt",
        "outputId": "95712281-d4b2-4ef8-a67d-7daf34f49450"
      },
      "source": [
        "\n",
        "var1 = 'global-1'\n",
        "var2 = 'global-2'\n",
        "var3 = 'global-3'\n",
        "def fn1():\n",
        "    global var3\n",
        "    var1 = 'local'\n",
        "    var3 = 'local2'\n",
        "    # 가까이 있는 값을 가져온다고 생각하면 됨\n",
        "    print( 'var1 :', var1)\n",
        "    print( 'var2 :', var2)\n",
        "    print( 'var3 :', var3)\n",
        "fn1()\n",
        "\n",
        "# 같은 집에 있는 것을 가져옴(fn1 함수 내부는 다른 집)    \n",
        "print( 'var1 :', var1)\n",
        "print( 'var2 :', var2)\n",
        "\n",
        "# 함수 내에서 global var3로 선언하면서 첫 var3와 같아짐\n",
        "# 파이썬은 함수 선언과 할당이 따로 없기 때문에, 값을 넣는 식은 선언문로 취급함\n",
        "# fn1 내의 var1 = 'local'는 선언문, var3 = 'local2'는 치환문임\n",
        "print( 'var3 :', var3)\n"
      ],
      "execution_count": null,
      "outputs": [
        {
          "output_type": "stream",
          "name": "stdout",
          "text": [
            "var1 : local\n",
            "var2 : global-2\n",
            "var3 : local2\n",
            "var1 : global-1\n",
            "var2 : global-2\n",
            "var3 : local2\n"
          ]
        }
      ]
    },
    {
      "cell_type": "markdown",
      "metadata": {
        "id": "tBJXYaMziVsR"
      },
      "source": [
        "### Lambda\n",
        "* 이름 없이 한 줄로 작성된 함수\n",
        "* java의 익명함수와 비슷"
      ]
    },
    {
      "cell_type": "code",
      "source": [
        "def fn(a, b):\n",
        "  return a + b\n",
        "fn(1, 2)"
      ],
      "metadata": {
        "id": "imm6nbhUM7Jf",
        "colab": {
          "base_uri": "https://localhost:8080/"
        },
        "outputId": "ccc1ef7f-29a4-4fe6-d40f-87eb11045182"
      },
      "execution_count": null,
      "outputs": [
        {
          "output_type": "execute_result",
          "data": {
            "text/plain": [
              "3"
            ]
          },
          "metadata": {},
          "execution_count": 340
        }
      ]
    },
    {
      "cell_type": "code",
      "source": [
        "# 문법적으로 가능은 하지만 무의미한 코드\n",
        "(lambda a, b: a + b)(1, 2)"
      ],
      "metadata": {
        "colab": {
          "base_uri": "https://localhost:8080/"
        },
        "id": "dlNSV13y-Ggy",
        "outputId": "b2b3103d-97a4-4a6e-c3ea-4edffae7b86a"
      },
      "execution_count": null,
      "outputs": [
        {
          "output_type": "execute_result",
          "data": {
            "text/plain": [
              "3"
            ]
          },
          "metadata": {},
          "execution_count": 341
        }
      ]
    },
    {
      "cell_type": "markdown",
      "metadata": {
        "id": "_VIUNg_QibbH"
      },
      "source": [
        "### Built-in function"
      ]
    },
    {
      "cell_type": "code",
      "source": [
        "s = \"hello\"\n",
        "dir(s)"
      ],
      "metadata": {
        "id": "b9AGzFYXM9Bo"
      },
      "execution_count": null,
      "outputs": []
    },
    {
      "cell_type": "code",
      "source": [
        "# zip은 상관 없는 두 자료형 요소를 순서쌍으로 묶어줌. 3개 이상도 가능함\n",
        "a = ['one', 'two', 'three']\n",
        "b = [1, 2, 3]\n",
        "c = ['하나', '둘', '셋']\n",
        "list(zip(a, b, c))"
      ],
      "metadata": {
        "colab": {
          "base_uri": "https://localhost:8080/"
        },
        "id": "GPmSzOm4_Gwf",
        "outputId": "f20ee5aa-6608-4aa7-a3e4-1d54ff5050bb"
      },
      "execution_count": null,
      "outputs": [
        {
          "output_type": "execute_result",
          "data": {
            "text/plain": [
              "[('one', 1, '하나'), ('two', 2, '둘'), ('three', 3, '셋')]"
            ]
          },
          "metadata": {},
          "execution_count": 343
        }
      ]
    },
    {
      "cell_type": "code",
      "source": [
        "data = [1,2,3,4,5]\n",
        "\n",
        "def f(x):\n",
        "  return x * 2\n",
        "\n",
        "# 귀찮으므로 map 함수 사용해서 더 간단하게 할 수 있음\n",
        "res = []\n",
        "for i in data:\n",
        "  res.append(f(i))\n",
        "\n",
        "res"
      ],
      "metadata": {
        "colab": {
          "base_uri": "https://localhost:8080/"
        },
        "id": "fnw40B63_jQV",
        "outputId": "882084db-7a45-49f0-95a8-519c29cfb560"
      },
      "execution_count": null,
      "outputs": [
        {
          "output_type": "execute_result",
          "data": {
            "text/plain": [
              "[2, 4, 6, 8, 10]"
            ]
          },
          "metadata": {},
          "execution_count": 344
        }
      ]
    },
    {
      "cell_type": "code",
      "source": [
        "list(map(f, data))"
      ],
      "metadata": {
        "colab": {
          "base_uri": "https://localhost:8080/"
        },
        "id": "DM0nS4_EAzWq",
        "outputId": "e0f97749-ffc5-451f-e306-af4a63e22ae1"
      },
      "execution_count": null,
      "outputs": [
        {
          "output_type": "execute_result",
          "data": {
            "text/plain": [
              "[2, 4, 6, 8, 10]"
            ]
          },
          "metadata": {},
          "execution_count": 346
        }
      ]
    },
    {
      "cell_type": "code",
      "source": [
        "# 선언해둔 함수를 굳이 찾을 필요 없이 필요할 때 간단하게 사용하면 됨\n",
        "list(map(lambda x: x*2, data))"
      ],
      "metadata": {
        "colab": {
          "base_uri": "https://localhost:8080/"
        },
        "id": "ROXwqAMxBVL2",
        "outputId": "9eac517e-04e7-46fd-aa93-f912d91c94df"
      },
      "execution_count": null,
      "outputs": [
        {
          "output_type": "execute_result",
          "data": {
            "text/plain": [
              "[2, 4, 6, 8, 10]"
            ]
          },
          "metadata": {},
          "execution_count": 347
        }
      ]
    },
    {
      "cell_type": "markdown",
      "source": [
        "* filter 함수"
      ],
      "metadata": {
        "id": "o-sOAx1ZBw_v"
      }
    },
    {
      "cell_type": "code",
      "source": [
        "# 짝수인 결과만 내보냄\n",
        "list(filter(lambda x: x%2==0, data))"
      ],
      "metadata": {
        "colab": {
          "base_uri": "https://localhost:8080/"
        },
        "id": "W8HD_LnHBs2d",
        "outputId": "a7cb7d8c-5373-4cd4-d348-0f64f47a9b0d"
      },
      "execution_count": null,
      "outputs": [
        {
          "output_type": "execute_result",
          "data": {
            "text/plain": [
              "[2, 4]"
            ]
          },
          "metadata": {},
          "execution_count": 348
        }
      ]
    },
    {
      "cell_type": "code",
      "source": [
        "list(map(lambda x: x*2, filter(lambda x: x%2==0, data)))"
      ],
      "metadata": {
        "colab": {
          "base_uri": "https://localhost:8080/"
        },
        "id": "x8VebsJnCkPt",
        "outputId": "217096b5-9c6b-455c-f365-3667c39c2d17"
      },
      "execution_count": null,
      "outputs": [
        {
          "output_type": "execute_result",
          "data": {
            "text/plain": [
              "[4, 8]"
            ]
          },
          "metadata": {},
          "execution_count": 349
        }
      ]
    },
    {
      "cell_type": "markdown",
      "source": [
        "##09/13\n",
        "---\n",
        "---\n",
        "##09/14\n",
        "\n"
      ],
      "metadata": {
        "id": "asHgLh0qC8Sd"
      }
    },
    {
      "cell_type": "markdown",
      "metadata": {
        "id": "V6k0FeGRiJ0I"
      },
      "source": [
        "# 6.모듈과 패키지"
      ]
    },
    {
      "cell_type": "markdown",
      "metadata": {
        "id": "m5QT65fKpnJj"
      },
      "source": [
        "### 사용자 정의 모듈"
      ]
    },
    {
      "cell_type": "code",
      "metadata": {
        "id": "YCTa7xbqUh7U"
      },
      "source": [
        "#mymodule1.py\n",
        "\n",
        "def function1():\n",
        "    print('this is function 1')"
      ],
      "execution_count": null,
      "outputs": []
    },
    {
      "cell_type": "markdown",
      "metadata": {
        "id": "aHIPVsXIprWV"
      },
      "source": [
        "### 사용자 정의 패키지"
      ]
    },
    {
      "cell_type": "code",
      "source": [],
      "metadata": {
        "id": "BWHxgDD8NLem"
      },
      "execution_count": null,
      "outputs": []
    },
    {
      "cell_type": "markdown",
      "metadata": {
        "id": "VbTz8zXgl_Pq"
      },
      "source": [
        "## 주요 내장 모듈"
      ]
    },
    {
      "cell_type": "code",
      "source": [],
      "metadata": {
        "id": "Yz3tls2PNP5O"
      },
      "execution_count": null,
      "outputs": []
    },
    {
      "cell_type": "markdown",
      "metadata": {
        "id": "bfY5NXzH_i1F"
      },
      "source": [
        "# 7.객체와 클래스"
      ]
    },
    {
      "cell_type": "markdown",
      "metadata": {
        "id": "oEKaBsNJp5Y0"
      },
      "source": [
        "### 클래스 정의"
      ]
    },
    {
      "cell_type": "code",
      "source": [],
      "metadata": {
        "id": "L41xj8sqNRRe"
      },
      "execution_count": null,
      "outputs": []
    },
    {
      "cell_type": "markdown",
      "metadata": {
        "id": "Gx6IIdAop_0l"
      },
      "source": [
        "### 생성자 함수"
      ]
    },
    {
      "cell_type": "code",
      "source": [],
      "metadata": {
        "id": "aVdRGjYfNR_G"
      },
      "execution_count": null,
      "outputs": []
    },
    {
      "cell_type": "markdown",
      "metadata": {
        "id": "QJ9wZdaPqBnL"
      },
      "source": [
        "### 메서드"
      ]
    },
    {
      "cell_type": "code",
      "source": [],
      "metadata": {
        "id": "gMwVY8j3NSnu"
      },
      "execution_count": null,
      "outputs": []
    },
    {
      "cell_type": "markdown",
      "metadata": {
        "id": "GDeJ7ScgqDRR"
      },
      "source": [
        "### Hidden method"
      ]
    },
    {
      "cell_type": "code",
      "source": [],
      "metadata": {
        "id": "K7DGOfPHNTp4"
      },
      "execution_count": null,
      "outputs": []
    },
    {
      "cell_type": "markdown",
      "metadata": {
        "id": "drH9pO_1p83D"
      },
      "source": [
        "### 상속"
      ]
    },
    {
      "cell_type": "code",
      "source": [],
      "metadata": {
        "id": "y9_1tPEyNUN-"
      },
      "execution_count": null,
      "outputs": []
    },
    {
      "cell_type": "markdown",
      "metadata": {
        "id": "I04QEZvQqGTr"
      },
      "source": [
        "### super()"
      ]
    },
    {
      "cell_type": "code",
      "source": [],
      "metadata": {
        "id": "KwSgMbttNU02"
      },
      "execution_count": null,
      "outputs": []
    },
    {
      "cell_type": "markdown",
      "metadata": {
        "id": "7zctP0UK_tIj"
      },
      "source": [
        "## Callable"
      ]
    },
    {
      "cell_type": "code",
      "metadata": {
        "id": "JQYV5Qfj_vp7"
      },
      "source": [
        "class Callable:\n",
        "  def __call__(self):\n",
        "    print(\"__call__\")\n",
        "\n",
        "obj = Callable()\n",
        "obj()"
      ],
      "execution_count": null,
      "outputs": []
    },
    {
      "cell_type": "code",
      "metadata": {
        "id": "LHqiwyH7_saq"
      },
      "source": [
        "class MyDecorator:\n",
        "\n",
        "  def __init__(self, fn):\n",
        "    self.fn=fn\n",
        "\n",
        "  def __call__(self):\n",
        "    print('before calling %s' % self.fn.__name__)\n",
        "    self.fn()\n",
        "    print('after calling %s' %self.fn.__name__)\n",
        "def fn():\n",
        "  print('this is fn.')\n",
        "obj= MyDecorator(fn)\n",
        "obj()\n",
        "\n",
        "@MyDecorator\n",
        "def fn2():\n",
        "  print('this is fn2')\n",
        "fn2()\n"
      ],
      "execution_count": null,
      "outputs": []
    },
    {
      "cell_type": "markdown",
      "metadata": {
        "id": "fhOFqdyT_lLk"
      },
      "source": [
        "## Iterator"
      ]
    },
    {
      "cell_type": "code",
      "metadata": {
        "id": "XqsQ4NrBgNF5",
        "colab": {
          "base_uri": "https://localhost:8080/"
        },
        "outputId": "af82e334-148d-4590-b7ea-5643a90488e6"
      },
      "source": [
        "class MyIterator:\n",
        "  def __init__(self, start, end):\n",
        "    self.start = start\n",
        "    self.end = end\n",
        "    self.current = start\n",
        "\n",
        "  def __iter__(self):\n",
        "    return self\n",
        "\n",
        "  def __next__(self):\n",
        "    if self.current < self.end:\n",
        "      val = self.current\n",
        "      self.current += 1\n",
        "      return val\n",
        "    else:\n",
        "      raise StopIteration()\n",
        "\n",
        "obj = MyIterator(1, 10)\n",
        "for x in obj:\n",
        "  print(x)"
      ],
      "execution_count": null,
      "outputs": [
        {
          "output_type": "stream",
          "text": [
            "1\n",
            "2\n",
            "3\n",
            "4\n",
            "5\n",
            "6\n",
            "7\n",
            "8\n",
            "9\n"
          ],
          "name": "stdout"
        }
      ]
    },
    {
      "cell_type": "code",
      "metadata": {
        "id": "jGDNIYm6-e0w"
      },
      "source": [],
      "execution_count": null,
      "outputs": []
    }
  ]
}